{
 "cells": [
  {
   "cell_type": "markdown",
   "id": "637b47a5",
   "metadata": {},
   "source": [
    "\n",
    "![image](https://user-images.githubusercontent.com/57321948/196933065-4b16c235-f3b9-4391-9cfe-4affcec87c35.png)\n",
    "\n",
    "# Name: Mohammad Wasiq\n",
    "\n",
    "## E-mail: `mohammadwasiq0786@gmail.com`\n",
    "\n",
    "### Python Assignment - 1"
   ]
  },
  {
   "cell_type": "markdown",
   "id": "0c647dbe",
   "metadata": {},
   "source": [
    "### 1. Write a Python program to print \"Hello Python\"?"
   ]
  },
  {
   "cell_type": "code",
   "execution_count": 1,
   "id": "b98e80e9",
   "metadata": {
    "ExecuteTime": {
     "end_time": "2023-04-04T11:01:30.928901Z",
     "start_time": "2023-04-04T11:01:30.907958Z"
    }
   },
   "outputs": [
    {
     "name": "stdout",
     "output_type": "stream",
     "text": [
      "Hello Python\n"
     ]
    }
   ],
   "source": [
    "print(\"Hello Python\")"
   ]
  },
  {
   "cell_type": "markdown",
   "id": "fc18a6cd",
   "metadata": {},
   "source": [
    "### 2. Write a Python program to do arithmetical operations addition and division.?\n"
   ]
  },
  {
   "cell_type": "code",
   "execution_count": 3,
   "id": "c85b8a5d",
   "metadata": {
    "ExecuteTime": {
     "end_time": "2023-04-04T11:03:39.709371Z",
     "start_time": "2023-04-04T11:03:36.256315Z"
    }
   },
   "outputs": [
    {
     "name": "stdout",
     "output_type": "stream",
     "text": [
      "Enter first number :10\n",
      "Enter second number :5\n",
      "Addition : 15\n",
      "Division : 2.0\n"
     ]
    }
   ],
   "source": [
    "a= int(input(\"Enter first number :\"))\n",
    "b= int(input(\"Enter second number :\"))\n",
    "\n",
    "add= a+b\n",
    "div= a/b\n",
    "\n",
    "print(\"Addition :\", add)\n",
    "print(\"Division :\", div)"
   ]
  },
  {
   "cell_type": "markdown",
   "id": "af6e2429",
   "metadata": {},
   "source": [
    "### 3. Write a Python program to find the area of a triangle?\n"
   ]
  },
  {
   "cell_type": "code",
   "execution_count": 5,
   "id": "a62ffc89",
   "metadata": {
    "ExecuteTime": {
     "end_time": "2023-04-04T11:06:16.640909Z",
     "start_time": "2023-04-04T11:06:12.395329Z"
    }
   },
   "outputs": [
    {
     "name": "stdout",
     "output_type": "stream",
     "text": [
      "Enter first number :5\n",
      "Enter second number :6\n",
      "Enter third number :7\n",
      "Area of Triangle is =  14.696938456699069\n"
     ]
    }
   ],
   "source": [
    "a= int(input(\"Enter first number :\"))\n",
    "b= int(input(\"Enter second number :\"))\n",
    "c= int(input(\"Enter third number :\"))\n",
    "\n",
    "s= (a+b+c)/2\n",
    "\n",
    "area= (s*(s-a)*(s-b)*(s-c))**0.5\n",
    "\n",
    "print(\"Area of Triangle is = \", area)"
   ]
  },
  {
   "cell_type": "markdown",
   "id": "b8140061",
   "metadata": {},
   "source": [
    "### 4. Write a Python program to swap two variables?\n"
   ]
  },
  {
   "cell_type": "code",
   "execution_count": 6,
   "id": "0641d639",
   "metadata": {
    "ExecuteTime": {
     "end_time": "2023-04-04T11:07:33.055653Z",
     "start_time": "2023-04-04T11:07:30.559542Z"
    }
   },
   "outputs": [
    {
     "name": "stdout",
     "output_type": "stream",
     "text": [
      "Enter first number :5\n",
      "Enter second number :10\n",
      "Value of a after swapping =  10\n",
      "Value of b after swapping =  5\n"
     ]
    }
   ],
   "source": [
    "a= int(input(\"Enter first number :\"))\n",
    "b= int(input(\"Enter second number :\"))\n",
    "\n",
    "temp_var= a\n",
    "a= b\n",
    "b= temp_var\n",
    "\n",
    "print(\"Value of a after swapping = \", a)\n",
    "print(\"Value of b after swapping = \", b)"
   ]
  },
  {
   "cell_type": "markdown",
   "id": "3f8054c1",
   "metadata": {},
   "source": [
    "### 5. Write a Python program to generate a random number?\n"
   ]
  },
  {
   "cell_type": "code",
   "execution_count": 7,
   "id": "85668468",
   "metadata": {
    "ExecuteTime": {
     "end_time": "2023-04-04T11:08:12.517907Z",
     "start_time": "2023-04-04T11:08:12.506937Z"
    }
   },
   "outputs": [
    {
     "name": "stdout",
     "output_type": "stream",
     "text": [
      "4\n"
     ]
    }
   ],
   "source": [
    "import random\n",
    "\n",
    "print(random.randint(0, 10))"
   ]
  },
  {
   "cell_type": "code",
   "execution_count": 8,
   "id": "4ab292b8",
   "metadata": {
    "ExecuteTime": {
     "end_time": "2023-04-04T11:08:15.886573Z",
     "start_time": "2023-04-04T11:08:15.876598Z"
    }
   },
   "outputs": [
    {
     "name": "stdout",
     "output_type": "stream",
     "text": [
      "7\n"
     ]
    }
   ],
   "source": [
    "print(random.randint(0, 10))"
   ]
  }
 ],
 "metadata": {
  "kernelspec": {
   "display_name": "Python 3 (ipykernel)",
   "language": "python",
   "name": "python3"
  },
  "language_info": {
   "codemirror_mode": {
    "name": "ipython",
    "version": 3
   },
   "file_extension": ".py",
   "mimetype": "text/x-python",
   "name": "python",
   "nbconvert_exporter": "python",
   "pygments_lexer": "ipython3",
   "version": "3.9.12"
  },
  "latex_envs": {
   "LaTeX_envs_menu_present": true,
   "autoclose": false,
   "autocomplete": true,
   "bibliofile": "biblio.bib",
   "cite_by": "apalike",
   "current_citInitial": 1,
   "eqLabelWithNumbers": true,
   "eqNumInitial": 1,
   "hotkeys": {
    "equation": "Ctrl-E",
    "itemize": "Ctrl-I"
   },
   "labels_anchors": false,
   "latex_user_defs": false,
   "report_style_numbering": false,
   "user_envs_cfg": false
  },
  "nbTranslate": {
   "displayLangs": [
    "*"
   ],
   "hotkey": "alt-t",
   "langInMainMenu": true,
   "sourceLang": "en",
   "targetLang": "fr",
   "useGoogleTranslate": true
  },
  "toc": {
   "base_numbering": 1,
   "nav_menu": {},
   "number_sections": true,
   "sideBar": true,
   "skip_h1_title": false,
   "title_cell": "Table of Contents",
   "title_sidebar": "Contents",
   "toc_cell": false,
   "toc_position": {},
   "toc_section_display": true,
   "toc_window_display": false
  },
  "varInspector": {
   "cols": {
    "lenName": 16,
    "lenType": 16,
    "lenVar": 40
   },
   "kernels_config": {
    "python": {
     "delete_cmd_postfix": "",
     "delete_cmd_prefix": "del ",
     "library": "var_list.py",
     "varRefreshCmd": "print(var_dic_list())"
    },
    "r": {
     "delete_cmd_postfix": ") ",
     "delete_cmd_prefix": "rm(",
     "library": "var_list.r",
     "varRefreshCmd": "cat(var_dic_list()) "
    }
   },
   "types_to_exclude": [
    "module",
    "function",
    "builtin_function_or_method",
    "instance",
    "_Feature"
   ],
   "window_display": false
  }
 },
 "nbformat": 4,
 "nbformat_minor": 5
}
