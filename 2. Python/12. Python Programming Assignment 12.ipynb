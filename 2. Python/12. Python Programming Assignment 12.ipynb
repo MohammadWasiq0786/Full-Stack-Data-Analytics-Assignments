{
 "cells": [
  {
   "cell_type": "markdown",
   "id": "b7231b20",
   "metadata": {},
   "source": [
    "![image](https://user-images.githubusercontent.com/57321948/196933065-4b16c235-f3b9-4391-9cfe-4affcec87c35.png)\n",
    "\n",
    "# Name: Mohammad Wasiq\n",
    "\n",
    "## E-mail: `mohammadwasiq0786@gmail.com`\n",
    "\n",
    "### Python Assignment - 12"
   ]
  },
  {
   "cell_type": "markdown",
   "id": "d2ec324d",
   "metadata": {},
   "source": [
    "### 1. Write a Python program to Extract Unique values dictionary values?"
   ]
  },
  {
   "cell_type": "code",
   "execution_count": 1,
   "id": "b90f24bb",
   "metadata": {
    "ExecuteTime": {
     "end_time": "2023-04-05T04:47:10.007238Z",
     "start_time": "2023-04-05T04:47:09.988289Z"
    }
   },
   "outputs": [
    {
     "name": "stdout",
     "output_type": "stream",
     "text": [
      "The original dictionary is :{'a': [6, 7, 4, 6], 'b': [8, 9, 5], 'c': [2, 5, 3, 7], 'd': [6, 8, 5, 2]}\n",
      "Extraced unique items :[6, 7, 4, 8, 9, 5, 2, 3]\n"
     ]
    }
   ],
   "source": [
    "my_dict= {\"a\": [6, 7, 4, 6],\n",
    "          \"b\": [8, 9, 5],\n",
    "          \"c\" : [2, 5, 3, 7],\n",
    "          \"d\" : [6, 8, 5, 2]}\n",
    "\n",
    "print(\"The original dictionary is :\" + str(my_dict))\n",
    "\n",
    "res= []\n",
    "for val in my_dict.values():\n",
    "    for ele in val:\n",
    "        if ele not in res:\n",
    "            res.append(ele)\n",
    "            \n",
    "print(\"Extraced unique items :\" + str(res))"
   ]
  },
  {
   "cell_type": "markdown",
   "id": "203bcbc3",
   "metadata": {},
   "source": [
    "### 2. Write a Python program to find the sum of all items in a dictionary?"
   ]
  },
  {
   "cell_type": "code",
   "execution_count": 4,
   "id": "0380c1cc",
   "metadata": {
    "ExecuteTime": {
     "end_time": "2023-04-05T04:50:58.053306Z",
     "start_time": "2023-04-05T04:50:58.029369Z"
    }
   },
   "outputs": [
    {
     "name": "stdout",
     "output_type": "stream",
     "text": [
      "The original dectionary is : {'a': 100, 'b': 200, 'c': 300}\n",
      "Sum : 600\n"
     ]
    }
   ],
   "source": [
    "def returnSum(myDict):\n",
    "    list= []\n",
    "    for i in myDict:\n",
    "        list.append(myDict[i])\n",
    "    final= sum(list)\n",
    "    return final\n",
    "\n",
    "dict= {'a': 100, 'b': 200, 'c': 300}\n",
    "print(\"The original dectionary is : \" + str(dict))\n",
    "print(\"Sum :\", returnSum(dict))"
   ]
  },
  {
   "cell_type": "markdown",
   "id": "edfbc682",
   "metadata": {},
   "source": [
    "### 3. Write a Python program to Merging two Dictionaries?"
   ]
  },
  {
   "cell_type": "code",
   "execution_count": 5,
   "id": "a2e300f9",
   "metadata": {
    "ExecuteTime": {
     "end_time": "2023-04-05T04:54:07.784372Z",
     "start_time": "2023-04-05T04:54:07.770407Z"
    }
   },
   "outputs": [
    {
     "name": "stdout",
     "output_type": "stream",
     "text": [
      "The original 1st dictionary is :{'a': 10, 'b': 8}\n",
      "The original 2nd dictionary is :{'d': 6, 'c': 4}\n",
      "\n",
      " The result is : {'a': 100, 'b': 200, 'c': 4, 'd': 6}\n"
     ]
    }
   ],
   "source": [
    "dict1= {'a': 10, 'b': 8}\n",
    "dict2= {'d': 6, 'c': 4}\n",
    "\n",
    "def Merge(dict1, dict2):\n",
    "    a= {**dict, **dict2}\n",
    "    return a\n",
    "\n",
    "dict3= Merge(dict1, dict2)\n",
    "\n",
    "print(\"The original 1st dictionary is :\" + str(dict1))\n",
    "print(\"The original 2nd dictionary is :\" + str(dict2))\n",
    "\n",
    "print(\"\\n The result is :\", dict3)"
   ]
  },
  {
   "cell_type": "markdown",
   "id": "62eaf687",
   "metadata": {},
   "source": [
    "### 4. Write a Python program to convert key-values list to flat dictionary?"
   ]
  },
  {
   "cell_type": "code",
   "execution_count": 6,
   "id": "233948d1",
   "metadata": {
    "ExecuteTime": {
     "end_time": "2023-04-05T04:57:51.728691Z",
     "start_time": "2023-04-05T04:57:51.677830Z"
    }
   },
   "outputs": [
    {
     "name": "stdout",
     "output_type": "stream",
     "text": [
      "Original Dictionary languages :{'language': ['Python', 'Java', 'C/C++', 'Javascript'], 'year': [1991, 1995, 1980, 1995]}\n"
     ]
    },
    {
     "ename": "TypeError",
     "evalue": "'dict' object is not callable",
     "output_type": "error",
     "traceback": [
      "\u001b[1;31m---------------------------------------------------------------------------\u001b[0m",
      "\u001b[1;31mTypeError\u001b[0m                                 Traceback (most recent call last)",
      "Input \u001b[1;32mIn [6]\u001b[0m, in \u001b[0;36m<cell line: 6>\u001b[1;34m()\u001b[0m\n\u001b[0;32m      3\u001b[0m \u001b[38;5;28mprint\u001b[39m(\u001b[38;5;124m\"\u001b[39m\u001b[38;5;124mOriginal Dictionary languages :\u001b[39m\u001b[38;5;124m\"\u001b[39m \u001b[38;5;241m+\u001b[39m \u001b[38;5;28mstr\u001b[39m(languages))\n\u001b[0;32m      5\u001b[0m \u001b[38;5;66;03m# Flattening dictionary\u001b[39;00m\n\u001b[1;32m----> 6\u001b[0m lang_year\u001b[38;5;241m=\u001b[39m \u001b[38;5;28;43mdict\u001b[39;49m\u001b[43m(\u001b[49m\u001b[38;5;28;43mzip\u001b[39;49m\u001b[43m(\u001b[49m\u001b[43mlanguages\u001b[49m\u001b[43m[\u001b[49m\u001b[38;5;124;43m'\u001b[39;49m\u001b[38;5;124;43mlanguage\u001b[39;49m\u001b[38;5;124;43m'\u001b[39;49m\u001b[43m]\u001b[49m\u001b[43m,\u001b[49m\u001b[43m \u001b[49m\u001b[43mlanguages\u001b[49m\u001b[43m[\u001b[49m\u001b[38;5;124;43m'\u001b[39;49m\u001b[38;5;124;43myear\u001b[39;49m\u001b[38;5;124;43m'\u001b[39;49m\u001b[43m]\u001b[49m\u001b[43m)\u001b[49m\u001b[43m)\u001b[49m\n\u001b[0;32m      8\u001b[0m \u001b[38;5;28mprint\u001b[39m(\u001b[38;5;124m\"\u001b[39m\u001b[38;5;124mFlattened dictionary language :\u001b[39m\u001b[38;5;124m\"\u001b[39m \u001b[38;5;241m+\u001b[39m \u001b[38;5;28mstr\u001b[39m(lang_year))\n",
      "\u001b[1;31mTypeError\u001b[0m: 'dict' object is not callable"
     ]
    }
   ],
   "source": [
    "languages= {\"language\": ['Python', 'Java', 'C/C++', 'Javascript'],\n",
    "           \"year\": [1991, 1995, 1980, 1995]}\n",
    "print(\"Original Dictionary languages :\" + str(languages))\n",
    "\n",
    "# Flattening dictionary\n",
    "lang_year= dict(zip(languages['language'], languages['year']))\n",
    "\n",
    "print(\"Flattened dictionary language :\" + str(lang_year))"
   ]
  },
  {
   "cell_type": "markdown",
   "id": "fcc5015f",
   "metadata": {},
   "source": [
    "### 5. Write a Python program to insertion at the beginning in OrderedDict?"
   ]
  },
  {
   "cell_type": "code",
   "execution_count": 13,
   "id": "c014c9fd",
   "metadata": {
    "ExecuteTime": {
     "end_time": "2023-04-05T05:02:51.195310Z",
     "start_time": "2023-04-05T05:02:51.173369Z"
    }
   },
   "outputs": [
    {
     "name": "stdout",
     "output_type": "stream",
     "text": [
      "OrderedDict([('Wasiq', '1'), ('Altamash', '2'), ('Zainul', '4')])\n",
      "\n",
      " The resultant dictionary is :\n",
      "OrderedDict([('Pasha', '7'), ('Wasiq', '1'), ('Altamash', '2'), ('Zainul', '4')])\n"
     ]
    }
   ],
   "source": [
    "from collections import OrderedDict\n",
    "\n",
    "my_dict= OrderedDict([(\"Wasiq\", '1'), (\"Altamash\", '2'), (\"Zainul\", '4')])\n",
    "print(str(my_dict))\n",
    "\n",
    "my_dict.update({\"Pasha\" : '7'})\n",
    "my_dict.move_to_end(\"Pasha\", last= False)\n",
    "\n",
    "print(\"\\n The resultant dictionary is :\")\n",
    "print(str(my_dict))"
   ]
  },
  {
   "cell_type": "markdown",
   "id": "5978c9ab",
   "metadata": {},
   "source": [
    "### 6. Write a Python program to check order of character in string using OrderedDict()?"
   ]
  },
  {
   "cell_type": "code",
   "execution_count": 15,
   "id": "07b2abc0",
   "metadata": {
    "ExecuteTime": {
     "end_time": "2023-04-05T10:59:21.953633Z",
     "start_time": "2023-04-05T10:59:15.508035Z"
    }
   },
   "outputs": [
    {
     "name": "stdout",
     "output_type": "stream",
     "text": [
      "Enter a String :mohammadwasiq\n",
      "Enter a pattern want to check order of character :dit\n",
      "The string is\n",
      "mohammadwasiq\n",
      "The input pattern is\n",
      "dit\n",
      "The order of pattern is incorrect\n"
     ]
    }
   ],
   "source": [
    "from collections import OrderedDict\n",
    "inpt= input(\"Enter a String :\")\n",
    "pattern= input(\"Enter a pattern want to check order of character :\")\n",
    "\n",
    "def checkOrder(inpt, pattern):\n",
    "    dict_1= OrderedDict.fromkeys(inpt)\n",
    "    prtlen= 0\n",
    "    for key, value in dict_1.items():\n",
    "        if (key == pattern[prtlen]):\n",
    "            prtlen= prtlen + 1\n",
    "        if (prtlen == (len(pattern))):\n",
    "            return \"The order of pattern is correct\"\n",
    "    return \"The order of pattern is incorrect\"\n",
    "\n",
    "print(\"The string is\")\n",
    "print(inpt)\n",
    "print(\"The input pattern is\")\n",
    "print(pattern)\n",
    "\n",
    "print(checkOrder(inpt, pattern))"
   ]
  },
  {
   "cell_type": "markdown",
   "id": "f330da77",
   "metadata": {},
   "source": [
    "### 7. Write a Python program to sort Python Dictionaries by Key or Value?"
   ]
  },
  {
   "cell_type": "code",
   "execution_count": 16,
   "id": "19e0c6d8",
   "metadata": {
    "ExecuteTime": {
     "end_time": "2023-04-05T11:03:29.206788Z",
     "start_time": "2023-04-05T11:03:29.186845Z"
    }
   },
   "outputs": [
    {
     "name": "stdout",
     "output_type": "stream",
     "text": [
      "Original Dictionary : {'wasiq': 10, 'altamash': 9, 'zainul': 15, 'arbaz': 2, 'aman': 32, 'mukarram': 20}\n",
      "\n",
      " Sorted Dictionary : {'altamash': 9, 'aman': 32, 'arbaz': 2, 'mukarram': 20, 'wasiq': 10, 'zainul': 15}\n"
     ]
    }
   ],
   "source": [
    "myDict= {'wasiq': 10, 'altamash': 9, 'zainul':15, 'arbaz': 2, 'aman': 32, 'mukarram': 20}\n",
    "\n",
    "myKeys= list(myDict.keys())\n",
    "myKeys.sort()\n",
    "sorted_dict= {i: myDict[i] for i in myKeys}\n",
    "\n",
    "print(\"Original Dictionary :\", str(myDict))\n",
    "print(\"\\n Sorted Dictionary :\", str(sorted_dict))"
   ]
  }
 ],
 "metadata": {
  "kernelspec": {
   "display_name": "Python 3 (ipykernel)",
   "language": "python",
   "name": "python3"
  },
  "language_info": {
   "codemirror_mode": {
    "name": "ipython",
    "version": 3
   },
   "file_extension": ".py",
   "mimetype": "text/x-python",
   "name": "python",
   "nbconvert_exporter": "python",
   "pygments_lexer": "ipython3",
   "version": "3.9.12"
  },
  "latex_envs": {
   "LaTeX_envs_menu_present": true,
   "autoclose": false,
   "autocomplete": true,
   "bibliofile": "biblio.bib",
   "cite_by": "apalike",
   "current_citInitial": 1,
   "eqLabelWithNumbers": true,
   "eqNumInitial": 1,
   "hotkeys": {
    "equation": "Ctrl-E",
    "itemize": "Ctrl-I"
   },
   "labels_anchors": false,
   "latex_user_defs": false,
   "report_style_numbering": false,
   "user_envs_cfg": false
  },
  "nbTranslate": {
   "displayLangs": [
    "*"
   ],
   "hotkey": "alt-t",
   "langInMainMenu": true,
   "sourceLang": "en",
   "targetLang": "fr",
   "useGoogleTranslate": true
  },
  "toc": {
   "base_numbering": 1,
   "nav_menu": {},
   "number_sections": true,
   "sideBar": true,
   "skip_h1_title": false,
   "title_cell": "Table of Contents",
   "title_sidebar": "Contents",
   "toc_cell": false,
   "toc_position": {},
   "toc_section_display": true,
   "toc_window_display": false
  },
  "varInspector": {
   "cols": {
    "lenName": 16,
    "lenType": 16,
    "lenVar": 40
   },
   "kernels_config": {
    "python": {
     "delete_cmd_postfix": "",
     "delete_cmd_prefix": "del ",
     "library": "var_list.py",
     "varRefreshCmd": "print(var_dic_list())"
    },
    "r": {
     "delete_cmd_postfix": ") ",
     "delete_cmd_prefix": "rm(",
     "library": "var_list.r",
     "varRefreshCmd": "cat(var_dic_list()) "
    }
   },
   "types_to_exclude": [
    "module",
    "function",
    "builtin_function_or_method",
    "instance",
    "_Feature"
   ],
   "window_display": false
  }
 },
 "nbformat": 4,
 "nbformat_minor": 5
}
