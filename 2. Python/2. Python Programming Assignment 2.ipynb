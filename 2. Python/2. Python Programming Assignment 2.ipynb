{
 "cells": [
  {
   "cell_type": "markdown",
   "id": "08c66ea5",
   "metadata": {
    "id": "08c66ea5"
   },
   "source": [
    "![image](https://user-images.githubusercontent.com/57321948/196933065-4b16c235-f3b9-4391-9cfe-4affcec87c35.png)\n",
    "\n",
    "# Name: Mohammad Wasiq\n",
    "\n",
    "## E-mail: `mohammadwasiq0786@gmail.com`\n",
    "\n",
    "### Python Assignment - 2"
   ]
  },
  {
   "cell_type": "markdown",
   "id": "4e50cf42",
   "metadata": {
    "id": "4e50cf42"
   },
   "source": [
    "### 1. Write a Python program to convert kilometers to miles?\n"
   ]
  },
  {
   "cell_type": "code",
   "execution_count": 1,
   "id": "72fadd43",
   "metadata": {
    "ExecuteTime": {
     "end_time": "2023-04-04T11:12:22.211524Z",
     "start_time": "2023-04-04T11:12:19.881176Z"
    }
   },
   "outputs": [
    {
     "name": "stdout",
     "output_type": "stream",
     "text": [
      "Enter value in kilometers : 5\n",
      "5.00 kilometers is equal to 3.11 miles\n"
     ]
    }
   ],
   "source": [
    "km= int(input(\"Enter value in kilometers : \"))\n",
    "\n",
    "one_km= 0.621371\n",
    "\n",
    "miles= km*one_km\n",
    "\n",
    "print(\"%0.2f kilometers is equal to %0.2f miles\" %(km, miles))"
   ]
  },
  {
   "cell_type": "markdown",
   "id": "0df4e6bf",
   "metadata": {
    "id": "0df4e6bf"
   },
   "source": [
    "### 2.Write a Python program to convert Celsius to Fahrenheit?"
   ]
  },
  {
   "cell_type": "code",
   "execution_count": 4,
   "id": "757747b8",
   "metadata": {
    "ExecuteTime": {
     "end_time": "2023-04-04T11:28:40.232037Z",
     "start_time": "2023-04-04T11:28:38.465163Z"
    }
   },
   "outputs": [
    {
     "name": "stdout",
     "output_type": "stream",
     "text": [
      "Enter the value in Celcius : 98\n",
      "98.0 degree Celcius is equal to 208.4 degree Fahrenheit\n"
     ]
    }
   ],
   "source": [
    "celsius= int(input(\"Enter the value in Celcius : \"))\n",
    "\n",
    "fahrenheit= (celsius*1.8) + 32\n",
    "\n",
    "print(\"%0.1f degree Celcius is equal to %0.1f degree Fahrenheit\" %(celsius, fahrenheit))"
   ]
  },
  {
   "cell_type": "markdown",
   "id": "46129b8e",
   "metadata": {
    "id": "46129b8e"
   },
   "source": [
    "### 3. Write a Python program to display calendar?"
   ]
  },
  {
   "cell_type": "code",
   "execution_count": 5,
   "id": "746c2588",
   "metadata": {
    "ExecuteTime": {
     "end_time": "2023-04-04T11:30:14.961002Z",
     "start_time": "2023-04-04T11:30:09.737757Z"
    }
   },
   "outputs": [
    {
     "name": "stdout",
     "output_type": "stream",
     "text": [
      "Enter Year : 2023\n",
      "Enter Month : 4\n",
      "     April 2023\n",
      "Mo Tu We Th Fr Sa Su\n",
      "                1  2\n",
      " 3  4  5  6  7  8  9\n",
      "10 11 12 13 14 15 16\n",
      "17 18 19 20 21 22 23\n",
      "24 25 26 27 28 29 30\n",
      "\n"
     ]
    }
   ],
   "source": [
    "import calendar\n",
    "\n",
    "yy= int(input(\"Enter Year : \"))\n",
    "mm= int(input(\"Enter Month : \"))\n",
    "\n",
    "# Display the calender\n",
    "print(calendar.month(yy, mm))"
   ]
  },
  {
   "cell_type": "markdown",
   "id": "db2bf0f7",
   "metadata": {
    "id": "db2bf0f7"
   },
   "source": [
    "### 4. Write a Python program to solve quadratic equation?"
   ]
  },
  {
   "cell_type": "code",
   "execution_count": 6,
   "id": "f8c081ca",
   "metadata": {
    "ExecuteTime": {
     "end_time": "2023-04-04T13:53:13.256741Z",
     "start_time": "2023-04-04T13:53:08.714453Z"
    }
   },
   "outputs": [
    {
     "name": "stdout",
     "output_type": "stream",
     "text": [
      "Enter a number for a : 1\n",
      "Enter a number for b : 4\n",
      "Enter a number for c : 5\n",
      "The solution are (-2-1j) and (-2+1j)\n"
     ]
    }
   ],
   "source": [
    "import cmath\n",
    "\n",
    "a= int(input(\"Enter a number for a : \"))\n",
    "b= int(input(\"Enter a number for b : \"))\n",
    "c= int(input(\"Enter a number for c : \"))\n",
    "\n",
    "# Calculate the discriminant\n",
    "d= (b**2)-(4*a*c)\n",
    "\n",
    "# Find two solutions\n",
    "sol1= (-b- cmath.sqrt(d))/(2*a)\n",
    "sol2= (-b+ cmath.sqrt(d))/(2*a)\n",
    "\n",
    "print(\"The solution are {0} and {1}\".format(sol1, sol2))"
   ]
  },
  {
   "cell_type": "markdown",
   "id": "f70f74c9",
   "metadata": {
    "id": "f70f74c9"
   },
   "source": [
    "### 5. Write a Python program to swap two variables without temp variable?"
   ]
  },
  {
   "cell_type": "code",
   "execution_count": 7,
   "id": "45ff98d4",
   "metadata": {
    "ExecuteTime": {
     "end_time": "2023-04-04T13:55:53.433984Z",
     "start_time": "2023-04-04T13:55:51.141724Z"
    }
   },
   "outputs": [
    {
     "name": "stdout",
     "output_type": "stream",
     "text": [
      "Enter a number : 5\n",
      "Enter a number : 10\n",
      "Before Swapping\n",
      "Value of x : 5  and y : 10\n",
      "After Swapping\n",
      "Value of x : 10  and y : 5\n"
     ]
    }
   ],
   "source": [
    "x= int(input(\"Enter a number : \"))\n",
    "y= int(input(\"Enter a number : \"))\n",
    "\n",
    "print(\"Before Swapping\")\n",
    "print(\"Value of x :\", x, \" and y :\", y)\n",
    "\n",
    "# Code for swapping\n",
    "x, y= y, x\n",
    "\n",
    "print(\"After Swapping\")\n",
    "print(\"Value of x :\", x, \" and y :\", y)"
   ]
  }
 ],
 "metadata": {
  "colab": {
   "provenance": []
  },
  "kernelspec": {
   "display_name": "Python 3 (ipykernel)",
   "language": "python",
   "name": "python3"
  },
  "language_info": {
   "codemirror_mode": {
    "name": "ipython",
    "version": 3
   },
   "file_extension": ".py",
   "mimetype": "text/x-python",
   "name": "python",
   "nbconvert_exporter": "python",
   "pygments_lexer": "ipython3",
   "version": "3.9.12"
  },
  "latex_envs": {
   "LaTeX_envs_menu_present": true,
   "autoclose": false,
   "autocomplete": true,
   "bibliofile": "biblio.bib",
   "cite_by": "apalike",
   "current_citInitial": 1,
   "eqLabelWithNumbers": true,
   "eqNumInitial": 1,
   "hotkeys": {
    "equation": "Ctrl-E",
    "itemize": "Ctrl-I"
   },
   "labels_anchors": false,
   "latex_user_defs": false,
   "report_style_numbering": false,
   "user_envs_cfg": false
  },
  "nbTranslate": {
   "displayLangs": [
    "*"
   ],
   "hotkey": "alt-t",
   "langInMainMenu": true,
   "sourceLang": "en",
   "targetLang": "fr",
   "useGoogleTranslate": true
  },
  "toc": {
   "base_numbering": 1,
   "nav_menu": {},
   "number_sections": true,
   "sideBar": true,
   "skip_h1_title": false,
   "title_cell": "Table of Contents",
   "title_sidebar": "Contents",
   "toc_cell": false,
   "toc_position": {},
   "toc_section_display": true,
   "toc_window_display": false
  },
  "varInspector": {
   "cols": {
    "lenName": 16,
    "lenType": 16,
    "lenVar": 40
   },
   "kernels_config": {
    "python": {
     "delete_cmd_postfix": "",
     "delete_cmd_prefix": "del ",
     "library": "var_list.py",
     "varRefreshCmd": "print(var_dic_list())"
    },
    "r": {
     "delete_cmd_postfix": ") ",
     "delete_cmd_prefix": "rm(",
     "library": "var_list.r",
     "varRefreshCmd": "cat(var_dic_list()) "
    }
   },
   "types_to_exclude": [
    "module",
    "function",
    "builtin_function_or_method",
    "instance",
    "_Feature"
   ],
   "window_display": false
  }
 },
 "nbformat": 4,
 "nbformat_minor": 5
}
