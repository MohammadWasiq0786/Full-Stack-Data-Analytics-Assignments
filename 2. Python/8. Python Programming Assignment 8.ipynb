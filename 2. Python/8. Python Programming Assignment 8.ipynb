{
 "cells": [
  {
   "cell_type": "markdown",
   "id": "9b304197",
   "metadata": {},
   "source": [
    "![image](https://user-images.githubusercontent.com/57321948/196933065-4b16c235-f3b9-4391-9cfe-4affcec87c35.png)\n",
    "\n",
    "# Name: Mohammad Wasiq\n",
    "\n",
    "## E-mail: `mohammadwasiq0786@gmail.com`\n",
    "\n",
    "### Python Assignment - 8"
   ]
  },
  {
   "cell_type": "markdown",
   "id": "22789ae6",
   "metadata": {},
   "source": [
    "### 1. Write a Python Program to Add Two Matrices?"
   ]
  },
  {
   "cell_type": "code",
   "execution_count": 3,
   "id": "0986954c",
   "metadata": {
    "ExecuteTime": {
     "end_time": "2023-04-04T16:04:30.760536Z",
     "start_time": "2023-04-04T16:04:30.739593Z"
    }
   },
   "outputs": [
    {
     "name": "stdout",
     "output_type": "stream",
     "text": [
      "Result is\n",
      "[10, 10, 6]\n",
      "[7, 10, 11]\n",
      "[15, 10, 11]\n"
     ]
    }
   ],
   "source": [
    "X= [[1, 2, 3],\n",
    "   [4, 5, 6],\n",
    "   [7, 8, 9]]\n",
    "\n",
    "Y= [[9, 8, 3],\n",
    "   [3, 5, 5],\n",
    "   [8, 2, 2]]\n",
    "\n",
    "result= [[0, 0, 0],\n",
    "        [0, 0, 0],\n",
    "        [0, 0, 0]]\n",
    "\n",
    "# iterate through rows\n",
    "for i in range(len(X)):\n",
    "    # iterate through columns\n",
    "    for j in range(len(X[0])):\n",
    "        result[i][j]= X[i][j] + Y[i][j]\n",
    "        \n",
    "print(\"Result is\")\n",
    "\n",
    "for r in result:\n",
    "    print(r)"
   ]
  },
  {
   "cell_type": "markdown",
   "id": "044ceda6",
   "metadata": {},
   "source": [
    "### 2. Write a Python Program to Multiply Two Matrices?"
   ]
  },
  {
   "cell_type": "code",
   "execution_count": 6,
   "id": "912a2d07",
   "metadata": {
    "ExecuteTime": {
     "end_time": "2023-04-04T16:08:17.438142Z",
     "start_time": "2023-04-04T16:08:17.418193Z"
    }
   },
   "outputs": [
    {
     "name": "stdout",
     "output_type": "stream",
     "text": [
      "Result is\n",
      "[114, 160, 60, 27]\n",
      "[74, 97, 73, 14]\n",
      "[119, 157, 112, 23]\n"
     ]
    }
   ],
   "source": [
    "X= [[12, 7, 3],\n",
    "    [4, 5, 6],\n",
    "    [7, 8, 9]]\n",
    "\n",
    "Y= [[5, 8, 1, 2],\n",
    "   [6, 7, 3, 0],\n",
    "   [4, 5, 9, 1]]\n",
    "\n",
    "result= [[0, 0, 0, 0],\n",
    "        [0, 0, 0, 0],\n",
    "        [0, 0, 0, 0]]\n",
    "\n",
    "# iterate through rows of X\n",
    "for i in range(len(X)):\n",
    "    # iterate through columns of Y\n",
    "    for j in range(len(Y[0])):\n",
    "        # iterate through rows of Y\n",
    "        for k in range(len(Y)):\n",
    "            result[i][j]+= X[i][k] * Y[k][j]\n",
    "        \n",
    "print(\"Result is\")\n",
    "\n",
    "for r in result:\n",
    "    print(r)"
   ]
  },
  {
   "cell_type": "markdown",
   "id": "5f688e46",
   "metadata": {},
   "source": [
    "### 3. Write a Python Program to Transpose a Matrix?"
   ]
  },
  {
   "cell_type": "code",
   "execution_count": 7,
   "id": "4aad7d57",
   "metadata": {
    "ExecuteTime": {
     "end_time": "2023-04-04T16:09:59.261857Z",
     "start_time": "2023-04-04T16:09:59.246898Z"
    }
   },
   "outputs": [
    {
     "name": "stdout",
     "output_type": "stream",
     "text": [
      "Result is\n",
      "[12, 4, 3]\n",
      "[7, 5, 8]\n"
     ]
    }
   ],
   "source": [
    "X= [[12, 7],\n",
    "   [4, 5],\n",
    "   [3, 8]]\n",
    "\n",
    "result= [[0, 0,0],\n",
    "        [0, 0, 0]]\n",
    "\n",
    "# iterate through rows\n",
    "for i in range(len(X)):\n",
    "    # iterate through columns\n",
    "    for j in range(len(X[0])):\n",
    "        result[j][i]= X[i][j] # rows= columns, columns= rows\n",
    "        \n",
    "print(\"Result is\")\n",
    "\n",
    "for r in result:\n",
    "    print(r)"
   ]
  },
  {
   "cell_type": "markdown",
   "id": "b2849025",
   "metadata": {},
   "source": [
    "\n",
    "### 4. Write a Python Program to Sort Words in Alphabetic Order?\n"
   ]
  },
  {
   "cell_type": "code",
   "execution_count": 8,
   "id": "09e7b0d4",
   "metadata": {
    "ExecuteTime": {
     "end_time": "2023-04-04T16:12:39.616208Z",
     "start_time": "2023-04-04T16:12:21.882915Z"
    }
   },
   "outputs": [
    {
     "name": "stdout",
     "output_type": "stream",
     "text": [
      "Enter a String :My name is Mohammad Wasiq\n",
      "The Sorted words are :\n",
      "Mohammad My Wasiq is name "
     ]
    }
   ],
   "source": [
    "input_str= input(\"Enter a String :\")\n",
    "\n",
    "# Breakdown the string into a list of words\n",
    "words= input_str.split()\n",
    "\n",
    "# sort the list\n",
    "words.sort()\n",
    "\n",
    "print(\"The Sorted words are :\")\n",
    "for word in words:\n",
    "    print(word, end= ' ')"
   ]
  },
  {
   "cell_type": "markdown",
   "id": "48ac7b24",
   "metadata": {},
   "source": [
    "### 5. Write a Python Program to Remove Punctuation From a String?"
   ]
  },
  {
   "cell_type": "code",
   "execution_count": 9,
   "id": "f8deddb3",
   "metadata": {
    "ExecuteTime": {
     "end_time": "2023-04-04T16:18:25.632290Z",
     "start_time": "2023-04-04T16:18:01.449901Z"
    }
   },
   "outputs": [
    {
     "name": "stdout",
     "output_type": "stream",
     "text": [
      "Enter string with punctuation mark :Mohammad@Wasiq%12345\n",
      "String without punchuation mark :---->  MohammadWasiq12345\n"
     ]
    }
   ],
   "source": [
    "punctuation= '''~!@#$%^&*(){}[];:'\".,/?'''\n",
    "\n",
    "# taking input from user with punctuation mark\n",
    "input_str= input(\"Enter string with punctuation mark :\")\n",
    "\n",
    "# Removing punchuations from the input string using a for loop putting edited string in new_str\n",
    "\n",
    "new_str= input_str\n",
    "for char in input_str:\n",
    "    if char in punctuation:\n",
    "        new_str= new_str.replace(char, \"\")  # take, replace and save in sample place\n",
    "        \n",
    "print(f\"String without punchuation mark :----> \", new_str)"
   ]
  }
 ],
 "metadata": {
  "kernelspec": {
   "display_name": "Python 3 (ipykernel)",
   "language": "python",
   "name": "python3"
  },
  "language_info": {
   "codemirror_mode": {
    "name": "ipython",
    "version": 3
   },
   "file_extension": ".py",
   "mimetype": "text/x-python",
   "name": "python",
   "nbconvert_exporter": "python",
   "pygments_lexer": "ipython3",
   "version": "3.9.12"
  },
  "latex_envs": {
   "LaTeX_envs_menu_present": true,
   "autoclose": false,
   "autocomplete": true,
   "bibliofile": "biblio.bib",
   "cite_by": "apalike",
   "current_citInitial": 1,
   "eqLabelWithNumbers": true,
   "eqNumInitial": 1,
   "hotkeys": {
    "equation": "Ctrl-E",
    "itemize": "Ctrl-I"
   },
   "labels_anchors": false,
   "latex_user_defs": false,
   "report_style_numbering": false,
   "user_envs_cfg": false
  },
  "nbTranslate": {
   "displayLangs": [
    "*"
   ],
   "hotkey": "alt-t",
   "langInMainMenu": true,
   "sourceLang": "en",
   "targetLang": "fr",
   "useGoogleTranslate": true
  },
  "toc": {
   "base_numbering": 1,
   "nav_menu": {},
   "number_sections": true,
   "sideBar": true,
   "skip_h1_title": false,
   "title_cell": "Table of Contents",
   "title_sidebar": "Contents",
   "toc_cell": false,
   "toc_position": {},
   "toc_section_display": true,
   "toc_window_display": false
  },
  "varInspector": {
   "cols": {
    "lenName": 16,
    "lenType": 16,
    "lenVar": 40
   },
   "kernels_config": {
    "python": {
     "delete_cmd_postfix": "",
     "delete_cmd_prefix": "del ",
     "library": "var_list.py",
     "varRefreshCmd": "print(var_dic_list())"
    },
    "r": {
     "delete_cmd_postfix": ") ",
     "delete_cmd_prefix": "rm(",
     "library": "var_list.r",
     "varRefreshCmd": "cat(var_dic_list()) "
    }
   },
   "types_to_exclude": [
    "module",
    "function",
    "builtin_function_or_method",
    "instance",
    "_Feature"
   ],
   "window_display": false
  }
 },
 "nbformat": 4,
 "nbformat_minor": 5
}
