{
 "cells": [
  {
   "cell_type": "markdown",
   "id": "3dcb940f",
   "metadata": {},
   "source": [
    "![image](https://user-images.githubusercontent.com/57321948/196933065-4b16c235-f3b9-4391-9cfe-4affcec87c35.png)\n",
    "\n",
    "# Name: Mohammad Wasiq\n",
    "\n",
    "## E-mail: `mohammadwasiq0786@gmail.com`\n",
    "\n",
    "### Python Assignment - 10"
   ]
  },
  {
   "cell_type": "markdown",
   "id": "6720790a",
   "metadata": {},
   "source": [
    "### 1. Write a Python program to find sum of elements in list?"
   ]
  },
  {
   "cell_type": "code",
   "execution_count": 1,
   "id": "a02eb86f",
   "metadata": {
    "ExecuteTime": {
     "end_time": "2023-04-04T17:17:05.581492Z",
     "start_time": "2023-04-04T17:16:58.061491Z"
    }
   },
   "outputs": [
    {
     "name": "stdout",
     "output_type": "stream",
     "text": [
      "Enter the number of elements for lists :3\n",
      "Enter element :1\n",
      "Enter element :3\n",
      "Enter element :2\n",
      "Elements of a list :  [1, 3, 2]\n",
      "Sum of all elements in give list : 6\n"
     ]
    }
   ],
   "source": [
    "n= int(input(\"Enter the number of elements for lists :\"))\n",
    "\n",
    "list1= []\n",
    "for i in range(0, n):\n",
    "    element= int(input(\"Enter element :\"))\n",
    "    list1.append(element)\n",
    "    \n",
    "print(\"Elements of a list : \", list1)\n",
    "\n",
    "total= 0\n",
    "\n",
    "for j in range(0, len(list1)):\n",
    "    total= total + list1[j]\n",
    "    \n",
    "print(\"Sum of all elements in give list :\", total)"
   ]
  },
  {
   "cell_type": "markdown",
   "id": "fe1137c3",
   "metadata": {},
   "source": [
    "### 2. Write a Python program to  Multiply all numbers in the list?"
   ]
  },
  {
   "cell_type": "code",
   "execution_count": 3,
   "id": "9ac9b36c",
   "metadata": {
    "ExecuteTime": {
     "end_time": "2023-04-04T17:19:21.249702Z",
     "start_time": "2023-04-04T17:19:18.732202Z"
    }
   },
   "outputs": [
    {
     "name": "stdout",
     "output_type": "stream",
     "text": [
      "Enter the number of elements for lists :2\n",
      "Enter element :3\n",
      "Enter element :2\n",
      "Elements of a list :  [3, 2]\n",
      "Multiplication of all elements in give list : 6\n"
     ]
    }
   ],
   "source": [
    "n= int(input(\"Enter the number of elements for lists :\"))\n",
    "\n",
    "list1= []\n",
    "for i in range(0, n):\n",
    "    element= int(input(\"Enter element :\"))\n",
    "    list1.append(element)\n",
    "    \n",
    "print(\"Elements of a list : \", list1)\n",
    "\n",
    "result= 1\n",
    "\n",
    "for j in range(0, len(list1)):\n",
    "    result= result + list1[j]\n",
    "    \n",
    "print(\"Multiplication of all elements in give list :\", result)"
   ]
  },
  {
   "cell_type": "markdown",
   "id": "078681db",
   "metadata": {},
   "source": [
    "### 3. Write a Python program to find smallest number in a list?"
   ]
  },
  {
   "cell_type": "code",
   "execution_count": 7,
   "id": "9f2af6b1",
   "metadata": {
    "ExecuteTime": {
     "end_time": "2023-04-04T17:22:12.304818Z",
     "start_time": "2023-04-04T17:22:09.609624Z"
    }
   },
   "outputs": [
    {
     "name": "stdout",
     "output_type": "stream",
     "text": [
      "Enter the number of elements for lists :2\n",
      "Enter element :6\n",
      "Enter element :4\n",
      "Elements of a list :  [6, 4]\n",
      "Smallest elements in give list : 4\n"
     ]
    }
   ],
   "source": [
    "n= int(input(\"Enter the number of elements for lists :\"))\n",
    "\n",
    "list1= []\n",
    "for i in range(0, n):\n",
    "    element= int(input(\"Enter element :\"))\n",
    "    list1.append(element)\n",
    "    \n",
    "print(\"Elements of a list : \", list1)\n",
    "\n",
    "list1.sort()\n",
    "\n",
    "print(\"Smallest elements in give list :\", list1[0])"
   ]
  },
  {
   "cell_type": "markdown",
   "id": "12b04397",
   "metadata": {},
   "source": [
    "### 4. Write a Python program to find largest number in a list?"
   ]
  },
  {
   "cell_type": "code",
   "execution_count": 8,
   "id": "c5cbb304",
   "metadata": {
    "ExecuteTime": {
     "end_time": "2023-04-04T17:22:23.158498Z",
     "start_time": "2023-04-04T17:22:17.999033Z"
    }
   },
   "outputs": [
    {
     "name": "stdout",
     "output_type": "stream",
     "text": [
      "Enter the number of elements for lists :5\n",
      "Enter element :6\n",
      "Enter element :4\n",
      "Enter element :3\n",
      "Enter element :7\n",
      "Enter element :4\n",
      "Elements of a list :  [6, 4, 3, 7, 4]\n",
      "Largest of all elements in give list : 7\n"
     ]
    }
   ],
   "source": [
    "n= int(input(\"Enter the number of elements for lists :\"))\n",
    "\n",
    "list1= []\n",
    "for i in range(0, n):\n",
    "    element= int(input(\"Enter element :\"))\n",
    "    list1.append(element)\n",
    "    \n",
    "print(\"Elements of a list : \", list1)\n",
    "\n",
    "list1.sort()\n",
    "\n",
    "print(\"Largest of all elements in give list :\", list1[-1])"
   ]
  },
  {
   "cell_type": "markdown",
   "id": "86442b51",
   "metadata": {},
   "source": [
    "### 5. Write a Python program to find second largest number in a list?"
   ]
  },
  {
   "cell_type": "code",
   "execution_count": 9,
   "id": "43854d26",
   "metadata": {
    "ExecuteTime": {
     "end_time": "2023-04-04T17:22:35.936827Z",
     "start_time": "2023-04-04T17:22:31.725993Z"
    }
   },
   "outputs": [
    {
     "name": "stdout",
     "output_type": "stream",
     "text": [
      "Enter the number of elements for lists :3\n",
      "Enter element :4\n",
      "Enter element :5\n",
      "Enter element :6\n",
      "Elements of a list :  [4, 5, 6]\n",
      "Second Largest elements in give list : 5\n"
     ]
    }
   ],
   "source": [
    "n= int(input(\"Enter the number of elements for lists :\"))\n",
    "\n",
    "list1= []\n",
    "for i in range(0, n):\n",
    "    element= int(input(\"Enter element :\"))\n",
    "    list1.append(element)\n",
    "    \n",
    "print(\"Elements of a list : \", list1)\n",
    "\n",
    "list1.sort()\n",
    "\n",
    "print(\"Second Largest elements in give list :\", list1[-2])"
   ]
  },
  {
   "cell_type": "markdown",
   "id": "10964d7d",
   "metadata": {},
   "source": [
    "### 6. Write a Python program to find N largest elements from a list?"
   ]
  },
  {
   "cell_type": "code",
   "execution_count": 10,
   "id": "c2e886cc",
   "metadata": {
    "ExecuteTime": {
     "end_time": "2023-04-04T17:24:41.488851Z",
     "start_time": "2023-04-04T17:24:34.359070Z"
    }
   },
   "outputs": [
    {
     "name": "stdout",
     "output_type": "stream",
     "text": [
      "Enter the number of elements for lists :4\n",
      "Enter element :1\n",
      "Enter element :4\n",
      "Enter element :5\n",
      "Enter element :6\n",
      "Elements of a list :  [1, 4, 5, 6]\n",
      "Enter the number upto find largest element from the list :7\n",
      "7 Largest of all elements in give list : [1, 4, 5, 6]\n"
     ]
    }
   ],
   "source": [
    "n= int(input(\"Enter the number of elements for lists :\"))\n",
    "\n",
    "list1= []\n",
    "for i in range(0, n):\n",
    "    element= int(input(\"Enter element :\"))\n",
    "    list1.append(element)\n",
    "    \n",
    "print(\"Elements of a list : \", list1)\n",
    "\n",
    "N= int(input(\"Enter the number upto find largest element from the list :\"))\n",
    "\n",
    "list1.sort()\n",
    "\n",
    "print(f\"{N} Largest of all elements in give list :\", list1[-N:])"
   ]
  },
  {
   "cell_type": "markdown",
   "id": "2f1a1e98",
   "metadata": {},
   "source": [
    "### 7. Write a Python program to print even numbers in a list?"
   ]
  },
  {
   "cell_type": "code",
   "execution_count": 11,
   "id": "7d762290",
   "metadata": {
    "ExecuteTime": {
     "end_time": "2023-04-04T17:26:27.880958Z",
     "start_time": "2023-04-04T17:26:21.750988Z"
    }
   },
   "outputs": [
    {
     "name": "stdout",
     "output_type": "stream",
     "text": [
      "Enter the number of elements for lists :4\n",
      "Enter element :6\n",
      "Enter element :5\n",
      "Enter element :7\n",
      "Enter element :4\n",
      "Elements of a list :  [6, 5, 7, 4]\n",
      "Even elements in give list : [6, 4]\n"
     ]
    }
   ],
   "source": [
    "n= int(input(\"Enter the number of elements for lists :\"))\n",
    "\n",
    "list1= []\n",
    "for i in range(0, n):\n",
    "    element= int(input(\"Enter element :\"))\n",
    "    list1.append(element)\n",
    "    \n",
    "print(\"Elements of a list : \", list1)\n",
    "\n",
    "evn= []\n",
    "for num in list1:\n",
    "    if num % 2 == 0:\n",
    "        evn.append(num)\n",
    "\n",
    "print(\"Even elements in give list :\", evn)"
   ]
  },
  {
   "cell_type": "markdown",
   "id": "989bb324",
   "metadata": {},
   "source": [
    "### 8. Write a Python program to print odd numbers in a List?"
   ]
  },
  {
   "cell_type": "code",
   "execution_count": 12,
   "id": "a100d9b6",
   "metadata": {
    "ExecuteTime": {
     "end_time": "2023-04-04T17:27:13.310193Z",
     "start_time": "2023-04-04T17:27:04.946270Z"
    }
   },
   "outputs": [
    {
     "name": "stdout",
     "output_type": "stream",
     "text": [
      "Enter the number of elements for lists :5\n",
      "Enter element :2\n",
      "Enter element :3\n",
      "Enter element :5\n",
      "Enter element :6\n",
      "Enter element :7\n",
      "Elements of a list :  [2, 3, 5, 6, 7]\n",
      "Odd elements in give list : [3, 5, 7]\n"
     ]
    }
   ],
   "source": [
    "n= int(input(\"Enter the number of elements for lists :\"))\n",
    "\n",
    "list1= []\n",
    "for i in range(0, n):\n",
    "    element= int(input(\"Enter element :\"))\n",
    "    list1.append(element)\n",
    "    \n",
    "print(\"Elements of a list : \", list1)\n",
    "\n",
    "odd= []\n",
    "for num in list1:\n",
    "    if num % 2 != 0:\n",
    "        odd.append(num)\n",
    "\n",
    "print(\"Odd elements in give list :\", odd)"
   ]
  },
  {
   "cell_type": "markdown",
   "id": "185b7b13",
   "metadata": {},
   "source": [
    "### 9. Write a Python program to Remove empty List from List?"
   ]
  },
  {
   "cell_type": "code",
   "execution_count": 17,
   "id": "49b49e41",
   "metadata": {
    "ExecuteTime": {
     "end_time": "2023-04-04T17:30:06.386395Z",
     "start_time": "2023-04-04T17:29:58.399133Z"
    }
   },
   "outputs": [
    {
     "name": "stdout",
     "output_type": "stream",
     "text": [
      "Enter the number of elements for lists :4\n",
      "Enter element :5\n",
      "Enter element :6\n",
      "Enter element :5\n",
      "Enter element :7\n",
      "Elements of a list :  ['5', '6', '5', '7']\n"
     ]
    },
    {
     "ename": "TypeError",
     "evalue": "bad operand type for unary +: 'str'",
     "output_type": "error",
     "traceback": [
      "\u001b[1;31m---------------------------------------------------------------------------\u001b[0m",
      "\u001b[1;31mTypeError\u001b[0m                                 Traceback (most recent call last)",
      "Input \u001b[1;32mIn [17]\u001b[0m, in \u001b[0;36m<cell line: 13>\u001b[1;34m()\u001b[0m\n\u001b[0;32m     10\u001b[0m \u001b[38;5;28;01mwhile\u001b[39;00m (\u001b[38;5;124m'\u001b[39m\u001b[38;5;124m'\u001b[39m \u001b[38;5;129;01min\u001b[39;00m list1):\n\u001b[0;32m     11\u001b[0m     list1\u001b[38;5;241m.\u001b[39mremove(\u001b[38;5;124m'\u001b[39m\u001b[38;5;124m'\u001b[39m)\n\u001b[1;32m---> 13\u001b[0m \u001b[38;5;28mprint\u001b[39m(\u001b[38;5;124m\"\u001b[39m\u001b[38;5;124mModified list is :\u001b[39m\u001b[38;5;124m\"\u001b[39m, \u001b[38;5;241;43m+\u001b[39;49m\u001b[43m \u001b[49m\u001b[38;5;28;43mstr\u001b[39;49m\u001b[43m(\u001b[49m\u001b[43mlist1\u001b[49m\u001b[43m)\u001b[49m)\n",
      "\u001b[1;31mTypeError\u001b[0m: bad operand type for unary +: 'str'"
     ]
    }
   ],
   "source": [
    "n= int(input(\"Enter the number of elements for lists :\"))\n",
    "\n",
    "list1= []\n",
    "for i in range(0, n):\n",
    "    element= str(input(\"Enter element :\"))\n",
    "    list1.append(element)\n",
    "    \n",
    "print(\"Elements of a list : \", list1)\n",
    "\n",
    "while ('' in list1):\n",
    "    list1.remove('')\n",
    "\n",
    "print(\"Modified list is :\", + str(list1))"
   ]
  },
  {
   "cell_type": "markdown",
   "id": "278cfacc",
   "metadata": {},
   "source": [
    "### 10. Write a Python program to Cloning or Copying a list?"
   ]
  },
  {
   "cell_type": "code",
   "execution_count": 18,
   "id": "e576e728",
   "metadata": {
    "ExecuteTime": {
     "end_time": "2023-04-04T17:31:19.941318Z",
     "start_time": "2023-04-04T17:31:12.970755Z"
    }
   },
   "outputs": [
    {
     "name": "stdout",
     "output_type": "stream",
     "text": [
      "Enter the number of elements for lists :4\n",
      "Enter element :1\n",
      "Enter element :5\n",
      "Enter element :7\n",
      "Enter element :3\n",
      "Elements of a list :  [1, 5, 7, 3]\n",
      "Clone elements of a list : [1, 5, 7, 3]\n"
     ]
    }
   ],
   "source": [
    "n= int(input(\"Enter the number of elements for lists :\"))\n",
    "\n",
    "list1= []\n",
    "for i in range(0, n):\n",
    "    element= int(input(\"Enter element :\"))\n",
    "    list1.append(element)\n",
    "    \n",
    "print(\"Elements of a list : \", list1)\n",
    "\n",
    "copy_list= list1.copy()\n",
    "\n",
    "print(\"Clone elements of a list :\", copy_list)"
   ]
  },
  {
   "cell_type": "markdown",
   "id": "b359bedf",
   "metadata": {},
   "source": [
    "### 11. Write a Python program to Count occurrences of an element in a list?"
   ]
  },
  {
   "cell_type": "code",
   "execution_count": 19,
   "id": "08fc818f",
   "metadata": {
    "ExecuteTime": {
     "end_time": "2023-04-04T17:34:33.157275Z",
     "start_time": "2023-04-04T17:34:18.216695Z"
    }
   },
   "outputs": [
    {
     "name": "stdout",
     "output_type": "stream",
     "text": [
      "Enter the number of elements for lists :5\n",
      "Enter element :3\n",
      "Enter element :4\n",
      "Enter element :5\n",
      "Enter element :7\n",
      "Enter element :5\n",
      "Elements of a list :  [3, 4, 5, 7, 5]\n",
      "Enter a number in the list want to count how many accurance :5\n",
      "5 has occured 2 times\n"
     ]
    }
   ],
   "source": [
    "n= int(input(\"Enter the number of elements for lists :\"))\n",
    "\n",
    "list1= []\n",
    "for i in range(0, n):\n",
    "    element= int(input(\"Enter element :\"))\n",
    "    list1.append(element)\n",
    "    \n",
    "print(\"Elements of a list : \", list1)\n",
    "\n",
    "num= int(input(\"Enter a number in the list want to count how many accurance :\"))\n",
    "\n",
    "def countX(list1, num):\n",
    "    count= 0\n",
    "    for ele in list1:\n",
    "        if (ele == num):\n",
    "            count= count + 1\n",
    "    return count\n",
    "\n",
    "total= countX(list1, num)\n",
    "\n",
    "print(f\"{num} has occured {total} times\")"
   ]
  }
 ],
 "metadata": {
  "kernelspec": {
   "display_name": "Python 3 (ipykernel)",
   "language": "python",
   "name": "python3"
  },
  "language_info": {
   "codemirror_mode": {
    "name": "ipython",
    "version": 3
   },
   "file_extension": ".py",
   "mimetype": "text/x-python",
   "name": "python",
   "nbconvert_exporter": "python",
   "pygments_lexer": "ipython3",
   "version": "3.9.12"
  },
  "latex_envs": {
   "LaTeX_envs_menu_present": true,
   "autoclose": false,
   "autocomplete": true,
   "bibliofile": "biblio.bib",
   "cite_by": "apalike",
   "current_citInitial": 1,
   "eqLabelWithNumbers": true,
   "eqNumInitial": 1,
   "hotkeys": {
    "equation": "Ctrl-E",
    "itemize": "Ctrl-I"
   },
   "labels_anchors": false,
   "latex_user_defs": false,
   "report_style_numbering": false,
   "user_envs_cfg": false
  },
  "nbTranslate": {
   "displayLangs": [
    "*"
   ],
   "hotkey": "alt-t",
   "langInMainMenu": true,
   "sourceLang": "en",
   "targetLang": "fr",
   "useGoogleTranslate": true
  },
  "toc": {
   "base_numbering": 1,
   "nav_menu": {},
   "number_sections": true,
   "sideBar": true,
   "skip_h1_title": false,
   "title_cell": "Table of Contents",
   "title_sidebar": "Contents",
   "toc_cell": false,
   "toc_position": {},
   "toc_section_display": true,
   "toc_window_display": false
  },
  "varInspector": {
   "cols": {
    "lenName": 16,
    "lenType": 16,
    "lenVar": 40
   },
   "kernels_config": {
    "python": {
     "delete_cmd_postfix": "",
     "delete_cmd_prefix": "del ",
     "library": "var_list.py",
     "varRefreshCmd": "print(var_dic_list())"
    },
    "r": {
     "delete_cmd_postfix": ") ",
     "delete_cmd_prefix": "rm(",
     "library": "var_list.r",
     "varRefreshCmd": "cat(var_dic_list()) "
    }
   },
   "types_to_exclude": [
    "module",
    "function",
    "builtin_function_or_method",
    "instance",
    "_Feature"
   ],
   "window_display": false
  }
 },
 "nbformat": 4,
 "nbformat_minor": 5
}
