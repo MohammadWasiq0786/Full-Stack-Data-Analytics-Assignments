{
 "cells": [
  {
   "cell_type": "markdown",
   "id": "84a41a9f",
   "metadata": {},
   "source": [
    "![image](https://user-images.githubusercontent.com/57321948/196933065-4b16c235-f3b9-4391-9cfe-4affcec87c35.png)\n",
    "\n",
    "# Name: Mohammad Wasiq\n",
    "\n",
    "## E-mail: `mohammadwasiq0786@gmail.com`\n",
    "\n",
    "### Python Assignment - 6"
   ]
  },
  {
   "cell_type": "markdown",
   "id": "a4b40558",
   "metadata": {},
   "source": [
    "### 1. Write a Python Program to Display Fibonacci Sequence Using Recursion?"
   ]
  },
  {
   "cell_type": "code",
   "execution_count": 2,
   "id": "fffc22a1",
   "metadata": {
    "ExecuteTime": {
     "end_time": "2023-04-04T15:14:02.462850Z",
     "start_time": "2023-04-04T15:13:59.978211Z"
    }
   },
   "outputs": [
    {
     "name": "stdout",
     "output_type": "stream",
     "text": [
      "Enter a number for terms want to see : 5\n",
      "Fibonacci sequence\n",
      "0\n",
      "1\n",
      "1\n",
      "2\n",
      "3\n"
     ]
    }
   ],
   "source": [
    "def recur_fibn(n):\n",
    "    if n <= 1:\n",
    "        return n\n",
    "    else:\n",
    "        return (recur_fibn(n-1) + recur_fibn(n-2))\n",
    "\n",
    "nterms= int(input(\"Enter a number for terms want to see : \"))\n",
    "\n",
    "if nterms <= 0:\n",
    "    print(\"Please Enter a positive integer for terms\")\n",
    "else:\n",
    "    print(\"Fibonacci sequence\")\n",
    "    for i in range(nterms):\n",
    "        print(recur_fibn(i))"
   ]
  },
  {
   "cell_type": "markdown",
   "id": "d7a57f60",
   "metadata": {},
   "source": [
    "### 2. Write a Python Program to Find Factorial of Number Using Recursion?"
   ]
  },
  {
   "cell_type": "code",
   "execution_count": 3,
   "id": "b6c84936",
   "metadata": {
    "ExecuteTime": {
     "end_time": "2023-04-04T15:16:05.971352Z",
     "start_time": "2023-04-04T15:16:03.566839Z"
    }
   },
   "outputs": [
    {
     "name": "stdout",
     "output_type": "stream",
     "text": [
      "Enter a number for terms which want to see :5\n",
      "The factorial of 5  is 120\n"
     ]
    }
   ],
   "source": [
    "def fact(n):\n",
    "    if n == 1:\n",
    "        return n\n",
    "    else:\n",
    "        return n*fact(n-1)\n",
    "    \n",
    "fact_num= int(input(\"Enter a number for terms which want to see :\"))\n",
    "\n",
    "print(\"The factorial of\", fact_num, \" is\", fact(fact_num))"
   ]
  },
  {
   "cell_type": "markdown",
   "id": "0357b86f",
   "metadata": {},
   "source": [
    "### 3. Write a Python Program to calculate your Body Mass Index?"
   ]
  },
  {
   "cell_type": "code",
   "execution_count": 4,
   "id": "9a02b65c",
   "metadata": {
    "ExecuteTime": {
     "end_time": "2023-04-04T15:18:23.110757Z",
     "start_time": "2023-04-04T15:18:13.306271Z"
    }
   },
   "outputs": [
    {
     "name": "stdout",
     "output_type": "stream",
     "text": [
      "Enter your height in cm :5.7\n",
      "Enter your weight in kg :59\n",
      "Your BMI is 18159\n"
     ]
    }
   ],
   "source": [
    "height= float(input(\"Enter your height in cm :\"))\n",
    "weight= float(input(\"Enter your weight in kg :\"))\n",
    "\n",
    "BMI= round(weight/(height/100)**2)\n",
    "\n",
    "print(f\"Your BMI is {BMI}\")"
   ]
  },
  {
   "cell_type": "markdown",
   "id": "96d344a4",
   "metadata": {},
   "source": [
    "### 4. Write a Python Program to calculate the natural logarithm of any number?"
   ]
  },
  {
   "cell_type": "code",
   "execution_count": 5,
   "id": "873f9a54",
   "metadata": {
    "ExecuteTime": {
     "end_time": "2023-04-04T15:20:03.225412Z",
     "start_time": "2023-04-04T15:19:58.610647Z"
    }
   },
   "outputs": [
    {
     "name": "stdout",
     "output_type": "stream",
     "text": [
      "Enter a number :14\n",
      "Natural logarithm of 14 is : 3\n"
     ]
    }
   ],
   "source": [
    "import math\n",
    "num= int(input(\"Enter a number :\"))\n",
    "\n",
    "print(f\"Natural logarithm of {num} is :\", round(math.log(num)))"
   ]
  },
  {
   "cell_type": "markdown",
   "id": "11c0d92c",
   "metadata": {},
   "source": [
    "\n",
    "### 5. Write a Python Program for cube sum of first n natural numbers?\n"
   ]
  },
  {
   "cell_type": "code",
   "execution_count": 6,
   "id": "108f1ecd",
   "metadata": {
    "ExecuteTime": {
     "end_time": "2023-04-04T15:23:11.408805Z",
     "start_time": "2023-04-04T15:23:06.745393Z"
    }
   },
   "outputs": [
    {
     "name": "stdout",
     "output_type": "stream",
     "text": [
      "Enter a digit for terms :3\n",
      "Summation of cube : 36\n"
     ]
    }
   ],
   "source": [
    "def cube_sum(n):\n",
    "    total= 0\n",
    "    for i in range(1, n+1):\n",
    "        total= total+ i*i*i\n",
    "    return total\n",
    "\n",
    "nterms= int(input(\"Enter a digit for terms :\"))\n",
    "\n",
    "print(f\"Summation of cube :\", cube_sum(nterms))"
   ]
  }
 ],
 "metadata": {
  "kernelspec": {
   "display_name": "Python 3 (ipykernel)",
   "language": "python",
   "name": "python3"
  },
  "language_info": {
   "codemirror_mode": {
    "name": "ipython",
    "version": 3
   },
   "file_extension": ".py",
   "mimetype": "text/x-python",
   "name": "python",
   "nbconvert_exporter": "python",
   "pygments_lexer": "ipython3",
   "version": "3.9.12"
  },
  "latex_envs": {
   "LaTeX_envs_menu_present": true,
   "autoclose": false,
   "autocomplete": true,
   "bibliofile": "biblio.bib",
   "cite_by": "apalike",
   "current_citInitial": 1,
   "eqLabelWithNumbers": true,
   "eqNumInitial": 1,
   "hotkeys": {
    "equation": "Ctrl-E",
    "itemize": "Ctrl-I"
   },
   "labels_anchors": false,
   "latex_user_defs": false,
   "report_style_numbering": false,
   "user_envs_cfg": false
  },
  "nbTranslate": {
   "displayLangs": [
    "*"
   ],
   "hotkey": "alt-t",
   "langInMainMenu": true,
   "sourceLang": "en",
   "targetLang": "fr",
   "useGoogleTranslate": true
  },
  "toc": {
   "base_numbering": 1,
   "nav_menu": {},
   "number_sections": true,
   "sideBar": true,
   "skip_h1_title": false,
   "title_cell": "Table of Contents",
   "title_sidebar": "Contents",
   "toc_cell": false,
   "toc_position": {},
   "toc_section_display": true,
   "toc_window_display": false
  },
  "varInspector": {
   "cols": {
    "lenName": 16,
    "lenType": 16,
    "lenVar": 40
   },
   "kernels_config": {
    "python": {
     "delete_cmd_postfix": "",
     "delete_cmd_prefix": "del ",
     "library": "var_list.py",
     "varRefreshCmd": "print(var_dic_list())"
    },
    "r": {
     "delete_cmd_postfix": ") ",
     "delete_cmd_prefix": "rm(",
     "library": "var_list.r",
     "varRefreshCmd": "cat(var_dic_list()) "
    }
   },
   "types_to_exclude": [
    "module",
    "function",
    "builtin_function_or_method",
    "instance",
    "_Feature"
   ],
   "window_display": false
  }
 },
 "nbformat": 4,
 "nbformat_minor": 5
}
