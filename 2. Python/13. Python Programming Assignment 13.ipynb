{
 "cells": [
  {
   "cell_type": "markdown",
   "id": "62fd0c8e",
   "metadata": {},
   "source": [
    "![image](https://user-images.githubusercontent.com/57321948/196933065-4b16c235-f3b9-4391-9cfe-4affcec87c35.png)\n",
    "\n",
    "# Name: Mohammad Wasiq\n",
    "\n",
    "## E-mail: `mohammadwasiq0786@gmail.com`\n",
    "\n",
    "### Python Assignment - 13"
   ]
  },
  {
   "cell_type": "markdown",
   "id": "ed4a3c0b",
   "metadata": {},
   "source": [
    "### 1. Write a program that calculates and prints the value according to the given formula:\n",
    "Q = Square root of [(2 C D)/H]\n",
    "\n",
    "Following are the fixed values of C and H:\n",
    "\n",
    "C is 50. H is 30.\n",
    "\n",
    "D is the variable whose values should be input to your program in a comma-separated sequence.\n",
    "\n",
    "Example\n",
    "\n",
    "Let us assume the following comma separated input sequence is given to the program:\n",
    "\n",
    "100,150,180\n",
    "\n",
    "The output of the program should be:\n",
    "\n",
    "18,22,24"
   ]
  },
  {
   "cell_type": "code",
   "execution_count": 1,
   "id": "2d20d8a3",
   "metadata": {
    "ExecuteTime": {
     "end_time": "2023-04-05T11:12:47.450040Z",
     "start_time": "2023-04-05T11:12:17.932874Z"
    }
   },
   "outputs": [
    {
     "name": "stdout",
     "output_type": "stream",
     "text": [
      "Enter comma-separated values of D: 100\n",
      "18\n"
     ]
    }
   ],
   "source": [
    "import math\n",
    "\n",
    "# Fixed values of C and H\n",
    "C = 50\n",
    "H = 30\n",
    "\n",
    "# Input comma-separated sequence of D values\n",
    "d_input = input(\"Enter comma-separated values of D: \")\n",
    "\n",
    "# Convert input string to list of integers\n",
    "d_list = [int(d) for d in d_input.split(\",\")]\n",
    "\n",
    "# Calculate Q for each D value and print the result\n",
    "for d in d_list:\n",
    "    Q = math.sqrt((2 * C * d) / H)\n",
    "    print(round(Q))"
   ]
  },
  {
   "cell_type": "markdown",
   "id": "ed37b6ed",
   "metadata": {},
   "source": [
    "### 2. Write a program which takes 2 digits, X,Y as input and generates a 2-dimensional array. The element value in the i-th row and j-th column of the array should be i*j."
   ]
  },
  {
   "cell_type": "code",
   "execution_count": 2,
   "id": "e8112de8",
   "metadata": {
    "ExecuteTime": {
     "end_time": "2023-04-05T11:13:53.569968Z",
     "start_time": "2023-04-05T11:13:48.359935Z"
    }
   },
   "outputs": [
    {
     "name": "stdout",
     "output_type": "stream",
     "text": [
      "Enter two digits X and Y: 3 4\n",
      "[0, 0, 0, 0]\n",
      "[0, 1, 2, 3]\n",
      "[0, 2, 4, 6]\n"
     ]
    }
   ],
   "source": [
    "# Take input for X and Y\n",
    "X, Y = map(int, input(\"Enter two digits X and Y: \").split())\n",
    "\n",
    "# Generate the 2-dimensional array\n",
    "array = []\n",
    "for i in range(X):\n",
    "    row = []\n",
    "    for j in range(Y):\n",
    "        row.append(i*j)\n",
    "    array.append(row)\n",
    "\n",
    "# Print the array\n",
    "for row in array:\n",
    "    print(row)"
   ]
  },
  {
   "cell_type": "markdown",
   "id": "bc7f977b",
   "metadata": {},
   "source": [
    "### 3. Write a program that accepts a comma separated sequence of words as input and prints the words in a comma-separated sequence after sorting them alphabetically."
   ]
  },
  {
   "cell_type": "code",
   "execution_count": 3,
   "id": "7eec2f74",
   "metadata": {
    "ExecuteTime": {
     "end_time": "2023-04-05T11:14:44.115821Z",
     "start_time": "2023-04-05T11:14:38.796329Z"
    }
   },
   "outputs": [
    {
     "name": "stdout",
     "output_type": "stream",
     "text": [
      "Enter comma-separated sequence of words: banana, apple, orange, pear\n",
      " apple, orange, pear,banana\n"
     ]
    }
   ],
   "source": [
    "# Take input for comma-separated sequence of words\n",
    "words_input = input(\"Enter comma-separated sequence of words: \")\n",
    "\n",
    "# Convert input string to list of words\n",
    "words_list = words_input.split(\",\")\n",
    "\n",
    "# Sort the list of words alphabetically\n",
    "words_list.sort()\n",
    "\n",
    "# Print the sorted list of words as a comma-separated sequence\n",
    "print(\",\".join(words_list))"
   ]
  },
  {
   "cell_type": "markdown",
   "id": "171c3d90",
   "metadata": {},
   "source": [
    "### 4. Write a program that accepts a sequence of whitespace separated words as input and prints the words after removing all duplicate words and sorting them alphanumerically."
   ]
  },
  {
   "cell_type": "code",
   "execution_count": 4,
   "id": "f1158fdb",
   "metadata": {
    "ExecuteTime": {
     "end_time": "2023-04-05T11:15:36.155103Z",
     "start_time": "2023-04-05T11:15:24.380070Z"
    }
   },
   "outputs": [
    {
     "name": "stdout",
     "output_type": "stream",
     "text": [
      "Enter sequence of whitespace separated words: apple banana orange banana pear\n",
      "apple banana orange pear\n"
     ]
    }
   ],
   "source": [
    "# Take input for sequence of whitespace separated words\n",
    "words_input = input(\"Enter sequence of whitespace separated words: \")\n",
    "\n",
    "# Convert input string to list of words\n",
    "words_list = words_input.split()\n",
    "\n",
    "# Remove duplicate words from the list\n",
    "words_list = list(set(words_list))\n",
    "\n",
    "# Sort the list of words alphanumerically\n",
    "words_list.sort()\n",
    "\n",
    "# Print the resulting words\n",
    "print(\" \".join(words_list))"
   ]
  },
  {
   "cell_type": "markdown",
   "id": "88d25c49",
   "metadata": {},
   "source": [
    "### 5. Write a program that accepts a sentence and calculate the number of letters and digits."
   ]
  },
  {
   "cell_type": "code",
   "execution_count": 5,
   "id": "d9485564",
   "metadata": {
    "ExecuteTime": {
     "end_time": "2023-04-05T11:17:29.878702Z",
     "start_time": "2023-04-05T11:16:39.157015Z"
    }
   },
   "outputs": [
    {
     "name": "stdout",
     "output_type": "stream",
     "text": [
      "Enter a sentence: My name is Mohammad Wasiq, student of Aligarh Muslim University, Aligarh and iNeuron.ai \n",
      "Number of letters: 72\n",
      "Number of digits: 0\n"
     ]
    }
   ],
   "source": [
    "# Take input for the sentence\n",
    "sentence = input(\"Enter a sentence: \")\n",
    "\n",
    "# Initialize counters for letters and digits\n",
    "num_letters = 0\n",
    "num_digits = 0\n",
    "\n",
    "# Iterate over each character in the sentence\n",
    "for char in sentence:\n",
    "    # Check if the character is a letter\n",
    "    if char.isalpha():\n",
    "        num_letters += 1\n",
    "    # Check if the character is a digit\n",
    "    elif char.isdigit():\n",
    "        num_digits += 1\n",
    "\n",
    "# Print the number of letters and digits\n",
    "print(\"Number of letters:\", num_letters)\n",
    "print(\"Number of digits:\", num_digits)"
   ]
  },
  {
   "cell_type": "markdown",
   "id": "9695c4ca",
   "metadata": {},
   "source": [
    "### 6. A website requires the users to input username and password to register. Write a program to check the validity of password input by users."
   ]
  },
  {
   "cell_type": "code",
   "execution_count": 6,
   "id": "b8eb1c3c",
   "metadata": {
    "ExecuteTime": {
     "end_time": "2023-04-05T11:18:37.190880Z",
     "start_time": "2023-04-05T11:18:23.925311Z"
    }
   },
   "outputs": [
    {
     "name": "stdout",
     "output_type": "stream",
     "text": [
      "Enter username: wasiq\n",
      "Enter password: wasiq@123\n",
      "Password is invalid.\n"
     ]
    }
   ],
   "source": [
    "# Take input for username and password\n",
    "username = input(\"Enter username: \")\n",
    "password = input(\"Enter password: \")\n",
    "\n",
    "# Set a flag for password validity\n",
    "valid_password = True\n",
    "\n",
    "# Check if password is at least 8 characters long\n",
    "if len(password) < 8:\n",
    "    valid_password = False\n",
    "\n",
    "# Check if password contains at least one uppercase letter\n",
    "if not any(char.isupper() for char in password):\n",
    "    valid_password = False\n",
    "\n",
    "# Check if password contains at least one lowercase letter\n",
    "if not any(char.islower() for char in password):\n",
    "    valid_password = False\n",
    "\n",
    "# Check if password contains at least one digit\n",
    "if not any(char.isdigit() for char in password):\n",
    "    valid_password = False\n",
    "\n",
    "# Check if password contains at least one special character\n",
    "if not any(char in \"!@#$%^&*()_+-=[]{};':\\\"\\\\|,./<>?\" for char in password):\n",
    "    valid_password = False\n",
    "\n",
    "# Print the result\n",
    "if valid_password:\n",
    "    print(\"Password is valid.\")\n",
    "else:\n",
    "    print(\"Password is invalid.\")"
   ]
  }
 ],
 "metadata": {
  "kernelspec": {
   "display_name": "Python 3 (ipykernel)",
   "language": "python",
   "name": "python3"
  },
  "language_info": {
   "codemirror_mode": {
    "name": "ipython",
    "version": 3
   },
   "file_extension": ".py",
   "mimetype": "text/x-python",
   "name": "python",
   "nbconvert_exporter": "python",
   "pygments_lexer": "ipython3",
   "version": "3.9.12"
  },
  "latex_envs": {
   "LaTeX_envs_menu_present": true,
   "autoclose": false,
   "autocomplete": true,
   "bibliofile": "biblio.bib",
   "cite_by": "apalike",
   "current_citInitial": 1,
   "eqLabelWithNumbers": true,
   "eqNumInitial": 1,
   "hotkeys": {
    "equation": "Ctrl-E",
    "itemize": "Ctrl-I"
   },
   "labels_anchors": false,
   "latex_user_defs": false,
   "report_style_numbering": false,
   "user_envs_cfg": false
  },
  "nbTranslate": {
   "displayLangs": [
    "*"
   ],
   "hotkey": "alt-t",
   "langInMainMenu": true,
   "sourceLang": "en",
   "targetLang": "fr",
   "useGoogleTranslate": true
  },
  "toc": {
   "base_numbering": 1,
   "nav_menu": {},
   "number_sections": true,
   "sideBar": true,
   "skip_h1_title": false,
   "title_cell": "Table of Contents",
   "title_sidebar": "Contents",
   "toc_cell": false,
   "toc_position": {},
   "toc_section_display": true,
   "toc_window_display": false
  },
  "varInspector": {
   "cols": {
    "lenName": 16,
    "lenType": 16,
    "lenVar": 40
   },
   "kernels_config": {
    "python": {
     "delete_cmd_postfix": "",
     "delete_cmd_prefix": "del ",
     "library": "var_list.py",
     "varRefreshCmd": "print(var_dic_list())"
    },
    "r": {
     "delete_cmd_postfix": ") ",
     "delete_cmd_prefix": "rm(",
     "library": "var_list.r",
     "varRefreshCmd": "cat(var_dic_list()) "
    }
   },
   "types_to_exclude": [
    "module",
    "function",
    "builtin_function_or_method",
    "instance",
    "_Feature"
   ],
   "window_display": false
  }
 },
 "nbformat": 4,
 "nbformat_minor": 5
}
