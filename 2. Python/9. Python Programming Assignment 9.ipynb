{
 "cells": [
  {
   "cell_type": "markdown",
   "id": "47b9bb99",
   "metadata": {},
   "source": [
    "![image](https://user-images.githubusercontent.com/57321948/196933065-4b16c235-f3b9-4391-9cfe-4affcec87c35.png)\n",
    "\n",
    "# Name: Mohammad Wasiq\n",
    "\n",
    "## E-mail: `mohammadwasiq0786@gmail.com`\n",
    "\n",
    "### Python Assignment - 9"
   ]
  },
  {
   "cell_type": "markdown",
   "id": "c725f7a9",
   "metadata": {},
   "source": [
    "### 1. Write a Python program to check if the given number is a Disarium Number?"
   ]
  },
  {
   "cell_type": "code",
   "execution_count": 3,
   "id": "3bc13ce2",
   "metadata": {
    "ExecuteTime": {
     "end_time": "2023-04-04T16:39:45.092775Z",
     "start_time": "2023-04-04T16:39:43.561946Z"
    }
   },
   "outputs": [
    {
     "name": "stdout",
     "output_type": "stream",
     "text": [
      "Enter a number to check disarium nmber :89\n",
      "A copy of the original number is being made...\n",
      "89 is a disarium number !\n"
     ]
    }
   ],
   "source": [
    "def lenght_calculation(num_val):\n",
    "    length= 0\n",
    "    while(num_val != 0):\n",
    "        length= length+ 1\n",
    "        num_val= num_val//10\n",
    "    return length # count no of length of a number\n",
    "\n",
    "my_num= int(input(\"Enter a number to check disarium nmber :\"))\n",
    "remaining= sum_val = 0\n",
    "len_val= lenght_calculation(my_num) # store Length value or total length of a number \n",
    "print(\"A copy of the original number is being made...\")\n",
    "\n",
    "num_val= my_num\n",
    "while(my_num > 0):\n",
    "    remaining= my_num % 10 # Last digit\n",
    "    sum_val= sum_val + int(remaining**len_val)\n",
    "    my_num= my_num//10 # extract remaing num\n",
    "    len_val= len_val- 1 # decrease Length number\n",
    "\n",
    "if (sum_val == num_val):\n",
    "    print(str(num_val) + \" is a disarium number !\")\n",
    "else:\n",
    "    print(str(num_val) + \" isn't a disarium number\")"
   ]
  },
  {
   "cell_type": "markdown",
   "id": "f0064401",
   "metadata": {},
   "source": [
    "### 2. Write a Python program to print all disarium numbers between 1 to 100?"
   ]
  },
  {
   "cell_type": "code",
   "execution_count": 8,
   "id": "c736a772",
   "metadata": {
    "ExecuteTime": {
     "end_time": "2023-04-04T16:53:01.399963Z",
     "start_time": "2023-04-04T16:53:01.378025Z"
    }
   },
   "outputs": [
    {
     "name": "stdout",
     "output_type": "stream",
     "text": [
      "Disarium numbers between 1 and 100 are\n",
      "1 , 2 , 3 , 4 , 5 , 6 , 7 , 8 , 9 , 89 , "
     ]
    }
   ],
   "source": [
    "def calculateLength(n):\n",
    "    lenght = 0\n",
    "    while (n != 0):\n",
    "        lenght = lenght + 1\n",
    "        n= n//10\n",
    "    return lenght\n",
    "\n",
    "def sumOfDigits(num):\n",
    "    rem= sum= 0\n",
    "    len= calculateLength(num)\n",
    "    while (num > 0):\n",
    "        rem= num % 10\n",
    "        sum= sum+ (rem**len)\n",
    "        num= num//10\n",
    "        len= len- 1\n",
    "        \n",
    "    return sum\n",
    "\n",
    "result= 0\n",
    "print(\"Disarium numbers between 1 and 100 are\")\n",
    "\n",
    "for i in range(1, 101):\n",
    "    result= sumOfDigits(i)\n",
    "    if (result == i):\n",
    "        print(i, end= ' , ')"
   ]
  },
  {
   "cell_type": "markdown",
   "id": "31df1e4a",
   "metadata": {},
   "source": [
    "### 3. Write a Python program to check if the given number is Happy Number?"
   ]
  },
  {
   "cell_type": "code",
   "execution_count": 9,
   "id": "30780f22",
   "metadata": {
    "ExecuteTime": {
     "end_time": "2023-04-04T17:00:03.347516Z",
     "start_time": "2023-04-04T17:00:00.331501Z"
    }
   },
   "outputs": [
    {
     "name": "stdout",
     "output_type": "stream",
     "text": [
      "Enter a number :82\n",
      "The number is being checked\n",
      "82 is a Happy Number\n"
     ]
    }
   ],
   "source": [
    "def check_happy_num(my_num):\n",
    "    remaining= sum_val= 0\n",
    "    while (my_num > 0):\n",
    "        remaining= my_num % 10\n",
    "        sum_val= sum_val + (remaining*remaining)\n",
    "        my_num= my_num//10\n",
    "    return sum_val\n",
    "\n",
    "num= int(input(\"Enter a number :\"))\n",
    "my_result= num\n",
    "while (my_result != 1 and my_result != 4):\n",
    "    my_result= check_happy_num(my_result)\n",
    "    \n",
    "print(\"The number is being checked\")\n",
    "\n",
    "if (my_result == 1):\n",
    "    print(str(num) + \" is a Happy Number\")\n",
    "elif (my_result == 1):\n",
    "    print(str(num) + \" isn't a Happy Number\")"
   ]
  },
  {
   "cell_type": "markdown",
   "id": "51b265e3",
   "metadata": {},
   "source": [
    "### 4. Write a Python program to print all happy numbers between 1 and 100?"
   ]
  },
  {
   "cell_type": "code",
   "execution_count": 10,
   "id": "d2b3705e",
   "metadata": {
    "ExecuteTime": {
     "end_time": "2023-04-04T17:03:33.078217Z",
     "start_time": "2023-04-04T17:03:33.052286Z"
    }
   },
   "outputs": [
    {
     "name": "stdout",
     "output_type": "stream",
     "text": [
      "The list of Happy Number between 1 and 100 are\n",
      "7 , 10 , 13 , 19 , 23 , 28 , 31 , 32 , 44 , 49 , 68 , 70 , 79 , 82 , 86 , 91 , 94 , 97 , 100 , "
     ]
    }
   ],
   "source": [
    "def check_happy_num(my_num):\n",
    "    remaining= sum_val= 0\n",
    "    while (my_num > 0):\n",
    "        remaining= my_num % 10\n",
    "        sum_val= sum_val + (remaining*remaining)\n",
    "        my_num= my_num//10\n",
    "    return sum_val\n",
    "\n",
    "print(\"The list of Happy Number between 1 and 100 are\")\n",
    "\n",
    "for i in range(1, 101):\n",
    "    my_result= i\n",
    "    while (my_result != 1 and my_result != 4):\n",
    "        my_result= check_happy_num(my_result)\n",
    "        if (my_result == 1):\n",
    "            print(i, end= ' , ')"
   ]
  },
  {
   "cell_type": "markdown",
   "id": "6a190ee0",
   "metadata": {},
   "source": [
    "### 5. Write a Python program to determine whether the given number is a Harshad Number?"
   ]
  },
  {
   "cell_type": "code",
   "execution_count": 12,
   "id": "a933a4a0",
   "metadata": {
    "ExecuteTime": {
     "end_time": "2023-04-04T17:08:47.430005Z",
     "start_time": "2023-04-04T17:08:44.860565Z"
    }
   },
   "outputs": [
    {
     "name": "stdout",
     "output_type": "stream",
     "text": [
      "Enter the number to check Harshad Number :20\n",
      "The Sum of the Digits = 2\n",
      "/n20 is a Harshad Number \n"
     ]
    }
   ],
   "source": [
    "Number= int(input(\"Enter the number to check Harshad Number :\"))\n",
    "\n",
    "Sum= 0\n",
    "rem= 0\n",
    "\n",
    "Temp= Number\n",
    "while Temp > 0:\n",
    "    rem= Temp % 10\n",
    "    Sum= Sum + rem\n",
    "    Temp= Temp // 10\n",
    "    \n",
    "print(\"The Sum of the Digits = %d\" %Sum)\n",
    "\n",
    "if (Number % Sum == 0):\n",
    "    print(\"/n%d is a Harshad Number \" %Number)\n",
    "else:\n",
    "    print(\"%d is not a Harshad Number \" %Number)"
   ]
  },
  {
   "cell_type": "markdown",
   "id": "7a7ea92e",
   "metadata": {},
   "source": [
    "### 6. Write a Python program to print all pronic numbers between 1 and 100?"
   ]
  },
  {
   "cell_type": "code",
   "execution_count": 13,
   "id": "52449bb0",
   "metadata": {
    "ExecuteTime": {
     "end_time": "2023-04-04T17:11:56.839716Z",
     "start_time": "2023-04-04T17:11:56.817779Z"
    }
   },
   "outputs": [
    {
     "name": "stdout",
     "output_type": "stream",
     "text": [
      "Pronic Numbers between 1 and 100\n",
      "2 , 6 , 12 , 20 , 30 , 42 , 56 , 72 , 90 , "
     ]
    }
   ],
   "source": [
    "def isPronicNumber(num):\n",
    "    flag= False\n",
    "    for j in range(1, num+1):\n",
    "        if ((j*(j+1)) == num):\n",
    "            flag = True\n",
    "            break\n",
    "    return flag\n",
    "\n",
    "print(\"Pronic Numbers between 1 and 100\")\n",
    "\n",
    "for i in range(1, 100):\n",
    "    if (isPronicNumber(i)):\n",
    "        print(i, end= ' , ')"
   ]
  }
 ],
 "metadata": {
  "kernelspec": {
   "display_name": "Python 3 (ipykernel)",
   "language": "python",
   "name": "python3"
  },
  "language_info": {
   "codemirror_mode": {
    "name": "ipython",
    "version": 3
   },
   "file_extension": ".py",
   "mimetype": "text/x-python",
   "name": "python",
   "nbconvert_exporter": "python",
   "pygments_lexer": "ipython3",
   "version": "3.9.12"
  },
  "latex_envs": {
   "LaTeX_envs_menu_present": true,
   "autoclose": false,
   "autocomplete": true,
   "bibliofile": "biblio.bib",
   "cite_by": "apalike",
   "current_citInitial": 1,
   "eqLabelWithNumbers": true,
   "eqNumInitial": 1,
   "hotkeys": {
    "equation": "Ctrl-E",
    "itemize": "Ctrl-I"
   },
   "labels_anchors": false,
   "latex_user_defs": false,
   "report_style_numbering": false,
   "user_envs_cfg": false
  },
  "nbTranslate": {
   "displayLangs": [
    "*"
   ],
   "hotkey": "alt-t",
   "langInMainMenu": true,
   "sourceLang": "en",
   "targetLang": "fr",
   "useGoogleTranslate": true
  },
  "toc": {
   "base_numbering": 1,
   "nav_menu": {},
   "number_sections": true,
   "sideBar": true,
   "skip_h1_title": false,
   "title_cell": "Table of Contents",
   "title_sidebar": "Contents",
   "toc_cell": false,
   "toc_position": {},
   "toc_section_display": true,
   "toc_window_display": false
  },
  "varInspector": {
   "cols": {
    "lenName": 16,
    "lenType": 16,
    "lenVar": 40
   },
   "kernels_config": {
    "python": {
     "delete_cmd_postfix": "",
     "delete_cmd_prefix": "del ",
     "library": "var_list.py",
     "varRefreshCmd": "print(var_dic_list())"
    },
    "r": {
     "delete_cmd_postfix": ") ",
     "delete_cmd_prefix": "rm(",
     "library": "var_list.r",
     "varRefreshCmd": "cat(var_dic_list()) "
    }
   },
   "types_to_exclude": [
    "module",
    "function",
    "builtin_function_or_method",
    "instance",
    "_Feature"
   ],
   "window_display": false
  }
 },
 "nbformat": 4,
 "nbformat_minor": 5
}
