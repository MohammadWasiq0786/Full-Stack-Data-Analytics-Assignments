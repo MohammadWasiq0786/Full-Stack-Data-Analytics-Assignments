{
 "cells": [
  {
   "cell_type": "markdown",
   "id": "35297a20",
   "metadata": {},
   "source": [
    "![image](https://user-images.githubusercontent.com/57321948/196933065-4b16c235-f3b9-4391-9cfe-4affcec87c35.png)\n",
    "\n",
    "# Name: Mohammad Wasiq\n",
    "\n",
    "## E-mail: `mohammadwasiq0786@gmail.com`\n",
    "\n",
    "### Python Assignment - 7"
   ]
  },
  {
   "cell_type": "markdown",
   "id": "27349114",
   "metadata": {},
   "source": [
    "### 1. Write a Python Program to find sum of array?"
   ]
  },
  {
   "cell_type": "code",
   "execution_count": 1,
   "id": "13023e91",
   "metadata": {
    "ExecuteTime": {
     "end_time": "2023-04-04T15:30:11.820799Z",
     "start_time": "2023-04-04T15:30:08.432498Z"
    }
   },
   "outputs": [
    {
     "name": "stdout",
     "output_type": "stream",
     "text": [
      "Enter numbers want to sum 12345\n",
      "List os array : [1, 2, 3, 4, 5]\n",
      "Sum of all elements of an array : 15\n"
     ]
    }
   ],
   "source": [
    "lis= list(input(\"Enter numbers want to sum \"))\n",
    "arr= [eval(i) for i in lis]\n",
    "\n",
    "print(\"List os array :\", arr)\n",
    "\n",
    "# For loop for sum\n",
    "sum= 0\n",
    "for i in range(0, len(arr)):\n",
    "    sum= sum + arr[i]\n",
    "    \n",
    "print(f\"Sum of all elements of an array :\", sum)"
   ]
  },
  {
   "cell_type": "markdown",
   "id": "171a980d",
   "metadata": {},
   "source": [
    "### 2. Write a Python Program to find largest element in an array?\n"
   ]
  },
  {
   "cell_type": "code",
   "execution_count": 2,
   "id": "c5280737",
   "metadata": {
    "ExecuteTime": {
     "end_time": "2023-04-04T15:32:02.827815Z",
     "start_time": "2023-04-04T15:31:59.564144Z"
    }
   },
   "outputs": [
    {
     "name": "stdout",
     "output_type": "stream",
     "text": [
      "Enter numbers to find maximum 12345\n",
      "List os array : [1, 2, 3, 4, 5]\n",
      "Maximum elements of an array : 5\n"
     ]
    }
   ],
   "source": [
    "lis= list(input(\"Enter numbers to find maximum \"))\n",
    "arr= [eval(i) for i in lis]\n",
    "\n",
    "print(\"List os array :\", arr)\n",
    "\n",
    "# For loop for max\n",
    "maxm= 0\n",
    "for i in range(0, len(arr)):\n",
    "    if arr[i]> maxm:\n",
    "        maxm= arr[i]\n",
    "    \n",
    "print(f\"Maximum elements of an array :\", maxm)"
   ]
  },
  {
   "cell_type": "markdown",
   "id": "21613246",
   "metadata": {},
   "source": [
    "### 3. Write a Python Program for array rotation?"
   ]
  },
  {
   "cell_type": "code",
   "execution_count": 7,
   "id": "abfcc19d",
   "metadata": {
    "ExecuteTime": {
     "end_time": "2023-04-04T15:50:54.192238Z",
     "start_time": "2023-04-04T15:50:51.771013Z"
    }
   },
   "outputs": [
    {
     "name": "stdout",
     "output_type": "stream",
     "text": [
      "Enter numbers for rotation :12345\n",
      "Original list of array : [1, 2, 3, 4, 5]\n",
      "Rotated array : [1, 5, 4, 3, 2]\n"
     ]
    }
   ],
   "source": [
    "def reverse(start, end, arr):\n",
    "    # No. of iterations needed for reversing the list\n",
    "    no_of_reverse= end-start+1\n",
    "    # By incrementing count swapping of first and last elements is done\n",
    "    count=0\n",
    "    while ((no_of_reverse)//2 != count):\n",
    "        arr[start+count], arr[end-count]= arr[end-count], arr[start+count] \n",
    "        count +=1\n",
    "    return arr\n",
    "\n",
    "def left_rotate_array(arr, leng_arr, d):\n",
    "    start= 0\n",
    "    end= leng_arr-1\n",
    "    arr= reverse(start, end, arr) # reverse the entire list\n",
    "    \n",
    "    start= 0\n",
    "    end= leng_arr-d-1 # divide 1st sub array\n",
    "    arr= reverse(start, end, arr) # reverse 1st sub array\n",
    "    \n",
    "    star= leng_arr-d\n",
    "    end= leng_arr-1 # divide 2nd sub array\n",
    "    arr= reverse(start, end, arr) # reverse 2nd sub array\n",
    "    return arr\n",
    "\n",
    "lis= list(input(\"Enter numbers for rotation :\"))\n",
    "arr= [eval(i) for i in lis]\n",
    "leng_arr= len(arr)  # length of array\n",
    "d= 1\n",
    "\n",
    "print(f\"Original list of array :\", arr)\n",
    "\n",
    "if (d <= leng_arr):\n",
    "    print(\"Rotated array :\", left_rotate_array(arr, leng_arr, d))\n",
    "else:\n",
    "    d= d % leng_arr\n",
    "    print(\"Rotated array :\", left_rotate_array(arr, leng_arr, d))"
   ]
  },
  {
   "cell_type": "markdown",
   "id": "3e52d939",
   "metadata": {},
   "source": [
    "### 4. Write a Python Program to Split the array and add the first part to the end?"
   ]
  },
  {
   "cell_type": "code",
   "execution_count": 9,
   "id": "865c0196",
   "metadata": {
    "ExecuteTime": {
     "end_time": "2023-04-04T15:56:42.861872Z",
     "start_time": "2023-04-04T15:56:39.380075Z"
    }
   },
   "outputs": [
    {
     "name": "stdout",
     "output_type": "stream",
     "text": [
      "Enter numbers for array list :12345\n",
      "Enter a number want to split and add to the end :2\n",
      "3 4 5 1 2 "
     ]
    }
   ],
   "source": [
    "def splitArr(arr, leng_arr, pstn):\n",
    "    b= arr[:pstn] # 1st split part\n",
    "    return (arr[pstn::]+ b[::]) # last part + split part\n",
    "\n",
    "lis= list(input(\"Enter numbers for array list :\"))\n",
    "arr= [eval(i) for i in lis]\n",
    "leng_arr= len(arr)\n",
    "pstn= int(input(\"Enter a number want to split and add to the end :\"))  # how many no. want to move last\n",
    "\n",
    "arr1= splitArr(arr, leng_arr, pstn) # Call fn and store results\n",
    "\n",
    "for i in range(0, leng_arr):\n",
    "    print(arr1[i], end= ' ')"
   ]
  },
  {
   "cell_type": "markdown",
   "id": "aa375779",
   "metadata": {},
   "source": [
    "### 5. Write a Python Program to check if given array is Monotonic?"
   ]
  },
  {
   "cell_type": "code",
   "execution_count": 10,
   "id": "3d8722dd",
   "metadata": {
    "ExecuteTime": {
     "end_time": "2023-04-04T15:59:32.657358Z",
     "start_time": "2023-04-04T15:59:29.990670Z"
    }
   },
   "outputs": [
    {
     "name": "stdout",
     "output_type": "stream",
     "text": [
      "Enter numbers for array list :247\n",
      "True\n"
     ]
    }
   ],
   "source": [
    "def isMonotonic(arr):\n",
    "    x, y= [], []\n",
    "    \n",
    "    x.extend(arr)\n",
    "    y.extend(arr)\n",
    "    \n",
    "    x.sort()\n",
    "    y.sort(reverse= True)\n",
    "    \n",
    "    if (x == arr or y == arr):\n",
    "        return True\n",
    "    return False\n",
    "\n",
    "lis= list(input(\"Enter numbers for array list :\"))\n",
    "arr= [eval(i) for i in lis]\n",
    "\n",
    "print(isMonotonic(arr))"
   ]
  }
 ],
 "metadata": {
  "kernelspec": {
   "display_name": "Python 3 (ipykernel)",
   "language": "python",
   "name": "python3"
  },
  "language_info": {
   "codemirror_mode": {
    "name": "ipython",
    "version": 3
   },
   "file_extension": ".py",
   "mimetype": "text/x-python",
   "name": "python",
   "nbconvert_exporter": "python",
   "pygments_lexer": "ipython3",
   "version": "3.9.12"
  },
  "latex_envs": {
   "LaTeX_envs_menu_present": true,
   "autoclose": false,
   "autocomplete": true,
   "bibliofile": "biblio.bib",
   "cite_by": "apalike",
   "current_citInitial": 1,
   "eqLabelWithNumbers": true,
   "eqNumInitial": 1,
   "hotkeys": {
    "equation": "Ctrl-E",
    "itemize": "Ctrl-I"
   },
   "labels_anchors": false,
   "latex_user_defs": false,
   "report_style_numbering": false,
   "user_envs_cfg": false
  },
  "nbTranslate": {
   "displayLangs": [
    "*"
   ],
   "hotkey": "alt-t",
   "langInMainMenu": true,
   "sourceLang": "en",
   "targetLang": "fr",
   "useGoogleTranslate": true
  },
  "toc": {
   "base_numbering": 1,
   "nav_menu": {},
   "number_sections": true,
   "sideBar": true,
   "skip_h1_title": false,
   "title_cell": "Table of Contents",
   "title_sidebar": "Contents",
   "toc_cell": false,
   "toc_position": {},
   "toc_section_display": true,
   "toc_window_display": false
  },
  "varInspector": {
   "cols": {
    "lenName": 16,
    "lenType": 16,
    "lenVar": 40
   },
   "kernels_config": {
    "python": {
     "delete_cmd_postfix": "",
     "delete_cmd_prefix": "del ",
     "library": "var_list.py",
     "varRefreshCmd": "print(var_dic_list())"
    },
    "r": {
     "delete_cmd_postfix": ") ",
     "delete_cmd_prefix": "rm(",
     "library": "var_list.r",
     "varRefreshCmd": "cat(var_dic_list()) "
    }
   },
   "types_to_exclude": [
    "module",
    "function",
    "builtin_function_or_method",
    "instance",
    "_Feature"
   ],
   "window_display": false
  }
 },
 "nbformat": 4,
 "nbformat_minor": 5
}
