{
 "cells": [
  {
   "cell_type": "markdown",
   "id": "53c7e882",
   "metadata": {},
   "source": [
    "![image](https://user-images.githubusercontent.com/57321948/196933065-4b16c235-f3b9-4391-9cfe-4affcec87c35.png)\n",
    "\n",
    "# Name: Mohammad Wasiq\n",
    "\n",
    "## E-mail: `mohammadwasiq0786@gmail.com`\n",
    "\n",
    "### Python Assignment - 11"
   ]
  },
  {
   "cell_type": "markdown",
   "id": "051da140",
   "metadata": {},
   "source": [
    "### 1. Write a Python program to find words which are greater than given length k?"
   ]
  },
  {
   "cell_type": "code",
   "execution_count": 1,
   "id": "2fa81649",
   "metadata": {
    "ExecuteTime": {
     "end_time": "2023-04-05T04:20:34.471967Z",
     "start_time": "2023-04-05T04:20:23.228024Z"
    }
   },
   "outputs": [
    {
     "name": "stdout",
     "output_type": "stream",
     "text": [
      "Write a Sentence :My name is Mohammad Wasiq\n",
      "Want to check Greater than length of :3\n",
      "The String is\n",
      "My name is Mohammad Wasiq\n",
      "\n",
      " The words in the string with length greater then 3  is : ['name', 'Mohammad', 'Wasiq']\n"
     ]
    }
   ],
   "source": [
    "my_string= input(\"Write a Sentence :\")\n",
    "string_lenght= int(input(\"Want to check Greater than length of :\"))\n",
    "\n",
    "def string_check(my_string, string_lenght):\n",
    "    result_string= [] # Store the result\n",
    "    words= my_string.split(\" \")\n",
    "    for x in words:\n",
    "        if len(x) > string_lenght:\n",
    "            result_string.append(x)\n",
    "    return result_string\n",
    "\n",
    "print(\"The String is\")\n",
    "print(my_string)\n",
    "\n",
    "print(\"\\n The words in the string with length greater then\", string_lenght, \" is :\", string_check(my_string, string_lenght))"
   ]
  },
  {
   "cell_type": "markdown",
   "id": "26719cbd",
   "metadata": {},
   "source": [
    "### 2. Write a Python program for removing i-th character from a string?"
   ]
  },
  {
   "cell_type": "code",
   "execution_count": 4,
   "id": "77af0862",
   "metadata": {
    "ExecuteTime": {
     "end_time": "2023-04-05T04:23:43.419163Z",
     "start_time": "2023-04-05T04:23:33.998600Z"
    }
   },
   "outputs": [
    {
     "name": "stdout",
     "output_type": "stream",
     "text": [
      "Write a Sentence :Wasiq iNeuron\n",
      "Give a character number want to remove from a sentence :3\n",
      "Waiq iNeuron\n",
      "None\n"
     ]
    }
   ],
   "source": [
    "my_string= input(\"Write a Sentence :\")\n",
    "string_lenght= int(input(\"Give a character number want to remove from a sentence :\"))\n",
    "\n",
    "def remove_char(s, i):\n",
    "    a= s[: i-1]\n",
    "    b= s[i: ]\n",
    "    \n",
    "    return print(a+b)\n",
    "\n",
    "print(remove_char(my_string, string_lenght))"
   ]
  },
  {
   "cell_type": "markdown",
   "id": "51ae6b0f",
   "metadata": {},
   "source": [
    "### 3. Write a Python program to split and join a string?"
   ]
  },
  {
   "cell_type": "code",
   "execution_count": 8,
   "id": "95f53b24",
   "metadata": {
    "ExecuteTime": {
     "end_time": "2023-04-05T04:29:05.577210Z",
     "start_time": "2023-04-05T04:29:03.779311Z"
    }
   },
   "outputs": [
    {
     "name": "stdout",
     "output_type": "stream",
     "text": [
      "Write a Sentence want to split :I want a great job\n",
      "List of string by split function : ['I', 'want', 'a', 'great', 'job']\n",
      "New string by join function : I-want-a-great-job\n"
     ]
    }
   ],
   "source": [
    "string= input(\"Write a Sentence want to split :\")\n",
    "\n",
    "def split_string(string):\n",
    "    list_string= string.split(' ')\n",
    "    return list_string\n",
    "    \n",
    "def join_string(list_string):\n",
    "    string= '-'.join(list_string)\n",
    "    return string\n",
    "list_of_string= split_string(string)\n",
    "\n",
    "print(\"List of string by split function :\", list_of_string)\n",
    "\n",
    "new_string= join_string(list_of_string)\n",
    "print(\"New string by join function :\", new_string)"
   ]
  },
  {
   "cell_type": "markdown",
   "id": "59079fe1",
   "metadata": {},
   "source": [
    "### 4. Write a Python to check if a given string is binary string or not?"
   ]
  },
  {
   "cell_type": "code",
   "execution_count": 9,
   "id": "6716a5b8",
   "metadata": {
    "ExecuteTime": {
     "end_time": "2023-04-05T04:33:13.489528Z",
     "start_time": "2023-04-05T04:33:07.011035Z"
    }
   },
   "outputs": [
    {
     "name": "stdout",
     "output_type": "stream",
     "text": [
      "Write a Sentence want to check string is binary string or not :100100111\n",
      "Yes! This given string is a binary string\n"
     ]
    }
   ],
   "source": [
    "string= input(\"Write a Sentence want to check string is binary string or not :\")\n",
    "\n",
    "def check(string):\n",
    "    p= set(string)\n",
    "    s= {'0', '1'}\n",
    "    if s == p or p == {'0'} or p == {'1'}:\n",
    "        print(\"Yes! This given string is a binary string\")\n",
    "    else:\n",
    "        print(\"Ooops! This given string is not a binary string\")\n",
    "        \n",
    "check_string= check(string)"
   ]
  },
  {
   "cell_type": "markdown",
   "id": "4d6cf11a",
   "metadata": {},
   "source": [
    "### 5. Write a Python program to find uncommon words from two Strings?"
   ]
  },
  {
   "cell_type": "code",
   "execution_count": 12,
   "id": "056d8f43",
   "metadata": {
    "ExecuteTime": {
     "end_time": "2023-04-05T04:38:08.098702Z",
     "start_time": "2023-04-05T04:37:51.087679Z"
    }
   },
   "outputs": [
    {
     "name": "stdout",
     "output_type": "stream",
     "text": [
      "Enter a first string :Mohammad Wasiq\n",
      "Enter a second string :Mohammad Pasha\n",
      "All uncommon words from both the string are :  Wasiq\n"
     ]
    }
   ],
   "source": [
    "str1= input(\"Enter a first string :\")\n",
    "str2= input(\"Enter a second string :\")\n",
    "\n",
    "str1List=  str1.split(' ')\n",
    "str2List=  str2.split(' ')\n",
    "\n",
    "uncommonWords= ''\n",
    "\n",
    "for words in str1List:\n",
    "    if words not in str2List:\n",
    "        uncommonWords= uncommonWords+\" \"+words\n",
    "for words in str2List:\n",
    "    if words not in str1List:\n",
    "        unc= uncommonWords+\" \"+words\n",
    "        \n",
    "print(\"All uncommon words from both the string are :\", uncommonWords)"
   ]
  },
  {
   "cell_type": "markdown",
   "id": "e2b24677",
   "metadata": {},
   "source": [
    "### 6. Write a Python to find all duplicate characters in string?"
   ]
  },
  {
   "cell_type": "code",
   "execution_count": 13,
   "id": "e8f88451",
   "metadata": {
    "ExecuteTime": {
     "end_time": "2023-04-05T04:40:12.086026Z",
     "start_time": "2023-04-05T04:40:06.171729Z"
    }
   },
   "outputs": [
    {
     "name": "stdout",
     "output_type": "stream",
     "text": [
      "Enter a string :Mohammad Wasiq\n",
      "Duplicates characters are : ['a', 'm']\n"
     ]
    }
   ],
   "source": [
    "string= input(\"Enter a string :\")\n",
    "\n",
    "dup_char= []\n",
    "for char in string:\n",
    "    if string.count(char) > 1:\n",
    "        if char not in dup_char:\n",
    "            dup_char.append(char)\n",
    "            \n",
    "print(\"Duplicates characters are :\", dup_char)"
   ]
  },
  {
   "cell_type": "markdown",
   "id": "1a6af7e4",
   "metadata": {},
   "source": [
    "### 7. Write a Python Program to check if a string contains any special character?"
   ]
  },
  {
   "cell_type": "code",
   "execution_count": 14,
   "id": "9daac8d7",
   "metadata": {
    "ExecuteTime": {
     "end_time": "2023-04-05T04:43:05.484021Z",
     "start_time": "2023-04-05T04:42:56.847037Z"
    }
   },
   "outputs": [
    {
     "name": "stdout",
     "output_type": "stream",
     "text": [
      "Enter a string :Wasiq@123#\n",
      "Yes! The string has a special character\n"
     ]
    }
   ],
   "source": [
    "sp_char= \"!@#$%^&*()_-+=,<>/\"\n",
    "\n",
    "s= input(\"Enter a string :\")\n",
    "\n",
    "if any(c in sp_char for c in s):\n",
    "    print(\"Yes! The string has a special character\")\n",
    "else:\n",
    "    print(\"No! The string has not any special character\")"
   ]
  }
 ],
 "metadata": {
  "kernelspec": {
   "display_name": "Python 3 (ipykernel)",
   "language": "python",
   "name": "python3"
  },
  "language_info": {
   "codemirror_mode": {
    "name": "ipython",
    "version": 3
   },
   "file_extension": ".py",
   "mimetype": "text/x-python",
   "name": "python",
   "nbconvert_exporter": "python",
   "pygments_lexer": "ipython3",
   "version": "3.9.12"
  },
  "latex_envs": {
   "LaTeX_envs_menu_present": true,
   "autoclose": false,
   "autocomplete": true,
   "bibliofile": "biblio.bib",
   "cite_by": "apalike",
   "current_citInitial": 1,
   "eqLabelWithNumbers": true,
   "eqNumInitial": 1,
   "hotkeys": {
    "equation": "Ctrl-E",
    "itemize": "Ctrl-I"
   },
   "labels_anchors": false,
   "latex_user_defs": false,
   "report_style_numbering": false,
   "user_envs_cfg": false
  },
  "nbTranslate": {
   "displayLangs": [
    "*"
   ],
   "hotkey": "alt-t",
   "langInMainMenu": true,
   "sourceLang": "en",
   "targetLang": "fr",
   "useGoogleTranslate": true
  },
  "toc": {
   "base_numbering": 1,
   "nav_menu": {},
   "number_sections": true,
   "sideBar": true,
   "skip_h1_title": false,
   "title_cell": "Table of Contents",
   "title_sidebar": "Contents",
   "toc_cell": false,
   "toc_position": {},
   "toc_section_display": true,
   "toc_window_display": false
  },
  "varInspector": {
   "cols": {
    "lenName": 16,
    "lenType": 16,
    "lenVar": 40
   },
   "kernels_config": {
    "python": {
     "delete_cmd_postfix": "",
     "delete_cmd_prefix": "del ",
     "library": "var_list.py",
     "varRefreshCmd": "print(var_dic_list())"
    },
    "r": {
     "delete_cmd_postfix": ") ",
     "delete_cmd_prefix": "rm(",
     "library": "var_list.r",
     "varRefreshCmd": "cat(var_dic_list()) "
    }
   },
   "types_to_exclude": [
    "module",
    "function",
    "builtin_function_or_method",
    "instance",
    "_Feature"
   ],
   "window_display": false
  }
 },
 "nbformat": 4,
 "nbformat_minor": 5
}
